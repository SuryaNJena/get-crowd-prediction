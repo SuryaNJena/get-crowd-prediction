{
 "cells": [
  {
   "cell_type": "markdown",
   "metadata": {
    "id": "BkL-maVcVNxx"
   },
   "source": [
    "# <center> **Forecasting the crowd at a given location.**"
   ]
  },
  {
   "cell_type": "markdown",
   "metadata": {
    "id": "p_XD-h_hVy71"
   },
   "source": [
    "- Contents\n",
    "  - Downloading the required data.\n",
    "  - Importing the required python libraries for analysis and prediction.\n",
    "  - Analysis of the data.\n",
    "  - Data preparation.\n",
    "    - Rough estimation of time taken to visit this place from entry to exit.\n",
    "  - Time Series Model.\n",
    "    - Baseline SARIMA model.\n",
    "      - Why SARIMA?\n",
    "    - Testing Facebook Prophet model on the data.\n",
    "      - Why FB Prophet?\n",
    "  - Conclusion."
   ]
  },
  {
   "cell_type": "markdown",
   "metadata": {
    "id": "46UrGmqmhXjI"
   },
   "source": [
    "**Note about the dataset** - All the datasets used for analysis and prediction have been **randomly generated** and do not represent real world behaviour."
   ]
  },
  {
   "cell_type": "markdown",
   "metadata": {
    "id": "hCKWdK-EVA5i"
   },
   "source": [
    "### Downloading Datasets"
   ]
  },
  {
   "cell_type": "code",
   "execution_count": null,
   "metadata": {
    "colab": {
     "base_uri": "https://localhost:8080/"
    },
    "id": "0ssANv6IUw4m",
    "outputId": "2323e84d-1444-4d43-ca29-50a0a47c6395"
   },
   "outputs": [
    {
     "name": "stdout",
     "output_type": "stream",
     "text": [
      "--2022-03-29 18:01:33--  https://raw.githubusercontent.com/atulsnjena/small-datasets-hosting/main/travio_exits.csv\n",
      "Resolving raw.githubusercontent.com (raw.githubusercontent.com)... 185.199.108.133, 185.199.109.133, 185.199.110.133, ...\n",
      "Connecting to raw.githubusercontent.com (raw.githubusercontent.com)|185.199.108.133|:443... connected.\n",
      "HTTP request sent, awaiting response... 200 OK\n",
      "Length: 7562 (7.4K) [text/plain]\n",
      "Saving to: ‘travio_exits.csv.3’\n",
      "\n",
      "\r",
      "travio_exits.csv.3    0%[                    ]       0  --.-KB/s               \r",
      "travio_exits.csv.3  100%[===================>]   7.38K  --.-KB/s    in 0s      \n",
      "\n",
      "2022-03-29 18:01:34 (70.3 MB/s) - ‘travio_exits.csv.3’ saved [7562/7562]\n",
      "\n",
      "--2022-03-29 18:01:34--  https://raw.githubusercontent.com/atulsnjena/small-datasets-hosting/main/travio_large.csv\n",
      "Resolving raw.githubusercontent.com (raw.githubusercontent.com)... 185.199.108.133, 185.199.109.133, 185.199.110.133, ...\n",
      "Connecting to raw.githubusercontent.com (raw.githubusercontent.com)|185.199.108.133|:443... connected.\n",
      "HTTP request sent, awaiting response... 200 OK\n",
      "Length: 131983 (129K) [text/plain]\n",
      "Saving to: ‘travio_large.csv.3’\n",
      "\n",
      "travio_large.csv.3  100%[===================>] 128.89K  --.-KB/s    in 0.003s  \n",
      "\n",
      "2022-03-29 18:01:34 (37.9 MB/s) - ‘travio_large.csv.3’ saved [131983/131983]\n",
      "\n"
     ]
    }
   ],
   "source": [
    "!wget 'https://raw.githubusercontent.com/atulsnjena/small-datasets-hosting/main/travio_exits.csv'\n",
    "!wget 'https://raw.githubusercontent.com/atulsnjena/small-datasets-hosting/main/travio_large.csv'"
   ]
  },
  {
   "cell_type": "markdown",
   "metadata": {
    "id": "EGygEMLDCGQa"
   },
   "source": [
    "### About the datasets.\n",
    "- We are going to use the entry data collected during the QR scanning at entry to a location. This is going to be our visitor entry dataset.\n",
    "\n",
    "- We are using the CCTVs at exit point to count the exits at a certain point of time.\n",
    "\n",
    "\n"
   ]
  },
  {
   "cell_type": "markdown",
   "metadata": {
    "id": "-ejjrb9aV8js"
   },
   "source": [
    "### Importing the required python libraries for analysis and prediction."
   ]
  },
  {
   "cell_type": "code",
   "execution_count": null,
   "metadata": {
    "id": "LcdAi08Axh8N"
   },
   "outputs": [],
   "source": [
    "import pandas as pd\n",
    "import numpy as np\n",
    "import matplotlib.pyplot as plt\n",
    "import seaborn as sns\n",
    "from datetime import timedelta\n",
    "from statsmodels.tsa.stattools import adfuller\n",
    "from statsmodels.graphics.tsaplots import plot_acf, plot_pacf\n",
    "import statsmodels.api as sm\n",
    "from sklearn.metrics import mean_absolute_error"
   ]
  },
  {
   "cell_type": "markdown",
   "metadata": {
    "id": "I8gDXQc2WDDQ"
   },
   "source": [
    "Making a pandas dataframe of the entry data collected from entry points and CCTVs at exit."
   ]
  },
  {
   "cell_type": "code",
   "execution_count": null,
   "metadata": {
    "id": "wVevUZvyxh8T"
   },
   "outputs": [],
   "source": [
    "df = pd.read_csv('travio_large.csv')"
   ]
  },
  {
   "cell_type": "markdown",
   "metadata": {
    "id": "INS8wI9jWNzx"
   },
   "source": [
    "Checking all the locations for which data has been collected."
   ]
  },
  {
   "cell_type": "code",
   "execution_count": null,
   "metadata": {
    "colab": {
     "base_uri": "https://localhost:8080/"
    },
    "id": "mdnxdsMIrNpy",
    "outputId": "6419ab70-be76-4932-fea8-3b3dfb28f3e0"
   },
   "outputs": [
    {
     "data": {
      "text/plain": [
       "array(['Prurana Qila', 'Safdarjung Tomb', 'Humayuns Tomb', 'Red Fort',\n",
       "       'Jantar Mantar', 'Qutub Minar', 'Akshardham Temple'], dtype=object)"
      ]
     },
     "execution_count": 168,
     "metadata": {},
     "output_type": "execute_result"
    }
   ],
   "source": [
    "df['Place'].unique()"
   ]
  },
  {
   "cell_type": "code",
   "execution_count": null,
   "metadata": {
    "colab": {
     "base_uri": "https://localhost:8080/",
     "height": 351
    },
    "id": "RNPHr3mEzfNe",
    "outputId": "999f42c8-f123-4c8b-e630-4a887aa96115"
   },
   "outputs": [
    {
     "data": {
      "text/plain": [
       "<matplotlib.axes._subplots.AxesSubplot at 0x7f54e6709f50>"
      ]
     },
     "execution_count": 169,
     "metadata": {},
     "output_type": "execute_result"
    },
    {
     "data": {
      "image/png": "[encoded data removed]",
      "text/plain": [
       "<Figure size 1080x360 with 1 Axes>"
      ]
     },
     "metadata": {
      "needs_background": "light"
     },
     "output_type": "display_data"
    }
   ],
   "source": [
    "fig = plt.figure(figsize=(15,5))\n",
    "sns.histplot(x='Place', data=df)"
   ]
  },
  {
   "cell_type": "markdown",
   "metadata": {
    "id": "_sqhEhfYWeKd"
   },
   "source": [
    "Selecting a location for further analysis and prediction."
   ]
  },
  {
   "cell_type": "code",
   "execution_count": null,
   "metadata": {
    "id": "Ox7dH6AQxh8S"
   },
   "outputs": [],
   "source": [
    "location_of_analysis = 'Qutub Minar'\n",
    "capacity_of_location = 0"
   ]
  },
  {
   "cell_type": "markdown",
   "metadata": {
    "id": "zz6VW74PWlq1"
   },
   "source": [
    "Filtering the dataset for the location of our interest."
   ]
  },
  {
   "cell_type": "code",
   "execution_count": null,
   "metadata": {
    "id": "J6azkZ3Mxh8T"
   },
   "outputs": [],
   "source": [
    "df = df[df['Place'].str.contains(location_of_analysis)]"
   ]
  },
  {
   "cell_type": "code",
   "execution_count": null,
   "metadata": {
    "colab": {
     "base_uri": "https://localhost:8080/",
     "height": 206
    },
    "id": "uqmgB92wxh8U",
    "outputId": "b914ca5a-64f2-4a7c-83cc-acd49845c17f"
   },
   "outputs": [
    {
     "data": {
      "text/html": [
       "\n",
       "  <div id=\"df-64417f10-9e4d-458e-bddb-c8ee50f531d8\">\n",
       "    <div class=\"colab-df-container\">\n",
       "      <div>\n",
       "<style scoped>\n",
       "    .dataframe tbody tr th:only-of-type {\n",
       "        vertical-align: middle;\n",
       "    }\n",
       "\n",
       "    .dataframe tbody tr th {\n",
       "        vertical-align: top;\n",
       "    }\n",
       "\n",
       "    .dataframe thead th {\n",
       "        text-align: right;\n",
       "    }\n",
       "</style>\n",
       "<table border=\"1\" class=\"dataframe\">\n",
       "  <thead>\n",
       "    <tr style=\"text-align: right;\">\n",
       "      <th></th>\n",
       "      <th>id</th>\n",
       "      <th>Name</th>\n",
       "      <th>Date</th>\n",
       "      <th>Timestamp</th>\n",
       "      <th>Place</th>\n",
       "      <th>In Time</th>\n",
       "      <th>Total</th>\n",
       "    </tr>\n",
       "  </thead>\n",
       "  <tbody>\n",
       "    <tr>\n",
       "      <th>9</th>\n",
       "      <td>10</td>\n",
       "      <td>Hamel Mathieu</td>\n",
       "      <td>09-03-22</td>\n",
       "      <td>Wed</td>\n",
       "      <td>Qutub Minar</td>\n",
       "      <td>12:50</td>\n",
       "      <td>9</td>\n",
       "    </tr>\n",
       "    <tr>\n",
       "      <th>11</th>\n",
       "      <td>12</td>\n",
       "      <td>Jeremie Hartless</td>\n",
       "      <td>20-03-22</td>\n",
       "      <td>Sun</td>\n",
       "      <td>Qutub Minar</td>\n",
       "      <td>15:07</td>\n",
       "      <td>6</td>\n",
       "    </tr>\n",
       "    <tr>\n",
       "      <th>13</th>\n",
       "      <td>14</td>\n",
       "      <td>Katheryn Sitford</td>\n",
       "      <td>05-03-22</td>\n",
       "      <td>Sat</td>\n",
       "      <td>Qutub Minar</td>\n",
       "      <td>12:57</td>\n",
       "      <td>7</td>\n",
       "    </tr>\n",
       "    <tr>\n",
       "      <th>24</th>\n",
       "      <td>25</td>\n",
       "      <td>Avrom Phalip</td>\n",
       "      <td>13-03-22</td>\n",
       "      <td>Sun</td>\n",
       "      <td>Qutub Minar</td>\n",
       "      <td>13:19</td>\n",
       "      <td>14</td>\n",
       "    </tr>\n",
       "    <tr>\n",
       "      <th>31</th>\n",
       "      <td>32</td>\n",
       "      <td>Astrid Bristowe</td>\n",
       "      <td>05-03-22</td>\n",
       "      <td>Sat</td>\n",
       "      <td>Qutub Minar</td>\n",
       "      <td>11:00</td>\n",
       "      <td>12</td>\n",
       "    </tr>\n",
       "  </tbody>\n",
       "</table>\n",
       "</div>\n",
       "      <button class=\"colab-df-convert\" onclick=\"convertToInteractive('df-64417f10-9e4d-458e-bddb-c8ee50f531d8')\"\n",
       "              title=\"Convert this dataframe to an interactive table.\"\n",
       "              style=\"display:none;\">\n",
       "        \n",
       "  <svg xmlns=\"http://www.w3.org/2000/svg\" height=\"24px\"viewBox=\"0 0 24 24\"\n",
       "       width=\"24px\">\n",
       "    <path d=\"M0 0h24v24H0V0z\" fill=\"none\"/>\n",
       "    <path d=\"M18.56 5.44l.94 2.06.94-2.06 2.06-.94-2.06-.94-.94-2.06-.94 2.06-2.06.94zm-11 1L8.5 8.5l.94-2.06 2.06-.94-2.06-.94L8.5 2.5l-.94 2.06-2.06.94zm10 10l.94 2.06.94-2.06 2.06-.94-2.06-.94-.94-2.06-.94 2.06-2.06.94z\"/><path d=\"M17.41 7.96l-1.37-1.37c-.4-.4-.92-.59-1.43-.59-.52 0-1.04.2-1.43.59L10.3 9.45l-7.72 7.72c-.78.78-.78 2.05 0 2.83L4 21.41c.39.39.9.59 1.41.59.51 0 1.02-.2 1.41-.59l7.78-7.78 2.81-2.81c.8-.78.8-2.07 0-2.86zM5.41 20L4 18.59l7.72-7.72 1.47 1.35L5.41 20z\"/>\n",
       "  </svg>\n",
       "      </button>\n",
       "      \n",
       "  <style>\n",
       "    .colab-df-container {\n",
       "      display:flex;\n",
       "      flex-wrap:wrap;\n",
       "      gap: 12px;\n",
       "    }\n",
       "\n",
       "    .colab-df-convert {\n",
       "      background-color: #E8F0FE;\n",
       "      border: none;\n",
       "      border-radius: 50%;\n",
       "      cursor: pointer;\n",
       "      display: none;\n",
       "      fill: #1967D2;\n",
       "      height: 32px;\n",
       "      padding: 0 0 0 0;\n",
       "      width: 32px;\n",
       "    }\n",
       "\n",
       "    .colab-df-convert:hover {\n",
       "      background-color: #E2EBFA;\n",
       "      box-shadow: 0px 1px 2px rgba(60, 64, 67, 0.3), 0px 1px 3px 1px rgba(60, 64, 67, 0.15);\n",
       "      fill: #174EA6;\n",
       "    }\n",
       "\n",
       "    [theme=dark] .colab-df-convert {\n",
       "      background-color: #3B4455;\n",
       "      fill: #D2E3FC;\n",
       "    }\n",
       "\n",
       "    [theme=dark] .colab-df-convert:hover {\n",
       "      background-color: #434B5C;\n",
       "      box-shadow: 0px 1px 3px 1px rgba(0, 0, 0, 0.15);\n",
       "      filter: drop-shadow(0px 1px 2px rgba(0, 0, 0, 0.3));\n",
       "      fill: #FFFFFF;\n",
       "    }\n",
       "  </style>\n",
       "\n",
       "      <script>\n",
       "        const buttonEl =\n",
       "          document.querySelector('#df-64417f10-9e4d-458e-bddb-c8ee50f531d8 button.colab-df-convert');\n",
       "        buttonEl.style.display =\n",
       "          google.colab.kernel.accessAllowed ? 'block' : 'none';\n",
       "\n",
       "        async function convertToInteractive(key) {\n",
       "          const element = document.querySelector('#df-64417f10-9e4d-458e-bddb-c8ee50f531d8');\n",
       "          const dataTable =\n",
       "            await google.colab.kernel.invokeFunction('convertToInteractive',\n",
       "                                                     [key], {});\n",
       "          if (!dataTable) return;\n",
       "\n",
       "          const docLinkHtml = 'Like what you see? Visit the ' +\n",
       "            '<a target=\"_blank\" href=https://colab.research.google.com/notebooks/data_table.ipynb>data table notebook</a>'\n",
       "            + ' to learn more about interactive tables.';\n",
       "          element.innerHTML = '';\n",
       "          dataTable['output_type'] = 'display_data';\n",
       "          await google.colab.output.renderOutput(dataTable, element);\n",
       "          const docLink = document.createElement('div');\n",
       "          docLink.innerHTML = docLinkHtml;\n",
       "          element.appendChild(docLink);\n",
       "        }\n",
       "      </script>\n",
       "    </div>\n",
       "  </div>\n",
       "  "
      ],
      "text/plain": [
       "    id              Name      Date Timestamp        Place In Time  Total\n",
       "9   10     Hamel Mathieu  09-03-22       Wed  Qutub Minar   12:50      9\n",
       "11  12  Jeremie Hartless  20-03-22       Sun  Qutub Minar   15:07      6\n",
       "13  14  Katheryn Sitford  05-03-22       Sat  Qutub Minar   12:57      7\n",
       "24  25      Avrom Phalip  13-03-22       Sun  Qutub Minar   13:19     14\n",
       "31  32   Astrid Bristowe  05-03-22       Sat  Qutub Minar   11:00     12"
      ]
     },
     "execution_count": 172,
     "metadata": {},
     "output_type": "execute_result"
    }
   ],
   "source": [
    "df.head(5)"
   ]
  },
  {
   "cell_type": "markdown",
   "metadata": {
    "id": "ZZUKqlX0WuAP"
   },
   "source": [
    "Make dataframe of exit data collected from camera."
   ]
  },
  {
   "cell_type": "code",
   "execution_count": null,
   "metadata": {
    "id": "YuTkF4oeZjN0"
   },
   "outputs": [],
   "source": [
    "df_exits = pd.read_csv('travio_exits.csv')"
   ]
  },
  {
   "cell_type": "code",
   "execution_count": null,
   "metadata": {
    "colab": {
     "base_uri": "https://localhost:8080/",
     "height": 206
    },
    "id": "bjZ_gy6uZ2ZS",
    "outputId": "3904fbe3-2211-4c43-f7b5-a48e33ea1d0f"
   },
   "outputs": [
    {
     "data": {
      "text/html": [
       "\n",
       "  <div id=\"df-05e0730a-f4b4-4434-9d04-0c5f34ad3fd9\">\n",
       "    <div class=\"colab-df-container\">\n",
       "      <div>\n",
       "<style scoped>\n",
       "    .dataframe tbody tr th:only-of-type {\n",
       "        vertical-align: middle;\n",
       "    }\n",
       "\n",
       "    .dataframe tbody tr th {\n",
       "        vertical-align: top;\n",
       "    }\n",
       "\n",
       "    .dataframe thead th {\n",
       "        text-align: right;\n",
       "    }\n",
       "</style>\n",
       "<table border=\"1\" class=\"dataframe\">\n",
       "  <thead>\n",
       "    <tr style=\"text-align: right;\">\n",
       "      <th></th>\n",
       "      <th>date</th>\n",
       "      <th>time</th>\n",
       "      <th>exits</th>\n",
       "    </tr>\n",
       "  </thead>\n",
       "  <tbody>\n",
       "    <tr>\n",
       "      <th>0</th>\n",
       "      <td>15-03-2022</td>\n",
       "      <td>15:03</td>\n",
       "      <td>3</td>\n",
       "    </tr>\n",
       "    <tr>\n",
       "      <th>1</th>\n",
       "      <td>08-02-2022</td>\n",
       "      <td>10:00</td>\n",
       "      <td>5</td>\n",
       "    </tr>\n",
       "    <tr>\n",
       "      <th>2</th>\n",
       "      <td>13-02-2022</td>\n",
       "      <td>9:43</td>\n",
       "      <td>4</td>\n",
       "    </tr>\n",
       "    <tr>\n",
       "      <th>3</th>\n",
       "      <td>22-02-2022</td>\n",
       "      <td>9:26</td>\n",
       "      <td>1</td>\n",
       "    </tr>\n",
       "    <tr>\n",
       "      <th>4</th>\n",
       "      <td>09-03-2022</td>\n",
       "      <td>16:07</td>\n",
       "      <td>1</td>\n",
       "    </tr>\n",
       "  </tbody>\n",
       "</table>\n",
       "</div>\n",
       "      <button class=\"colab-df-convert\" onclick=\"convertToInteractive('df-05e0730a-f4b4-4434-9d04-0c5f34ad3fd9')\"\n",
       "              title=\"Convert this dataframe to an interactive table.\"\n",
       "              style=\"display:none;\">\n",
       "        \n",
       "  <svg xmlns=\"http://www.w3.org/2000/svg\" height=\"24px\"viewBox=\"0 0 24 24\"\n",
       "       width=\"24px\">\n",
       "    <path d=\"M0 0h24v24H0V0z\" fill=\"none\"/>\n",
       "    <path d=\"M18.56 5.44l.94 2.06.94-2.06 2.06-.94-2.06-.94-.94-2.06-.94 2.06-2.06.94zm-11 1L8.5 8.5l.94-2.06 2.06-.94-2.06-.94L8.5 2.5l-.94 2.06-2.06.94zm10 10l.94 2.06.94-2.06 2.06-.94-2.06-.94-.94-2.06-.94 2.06-2.06.94z\"/><path d=\"M17.41 7.96l-1.37-1.37c-.4-.4-.92-.59-1.43-.59-.52 0-1.04.2-1.43.59L10.3 9.45l-7.72 7.72c-.78.78-.78 2.05 0 2.83L4 21.41c.39.39.9.59 1.41.59.51 0 1.02-.2 1.41-.59l7.78-7.78 2.81-2.81c.8-.78.8-2.07 0-2.86zM5.41 20L4 18.59l7.72-7.72 1.47 1.35L5.41 20z\"/>\n",
       "  </svg>\n",
       "      </button>\n",
       "      \n",
       "  <style>\n",
       "    .colab-df-container {\n",
       "      display:flex;\n",
       "      flex-wrap:wrap;\n",
       "      gap: 12px;\n",
       "    }\n",
       "\n",
       "    .colab-df-convert {\n",
       "      background-color: #E8F0FE;\n",
       "      border: none;\n",
       "      border-radius: 50%;\n",
       "      cursor: pointer;\n",
       "      display: none;\n",
       "      fill: #1967D2;\n",
       "      height: 32px;\n",
       "      padding: 0 0 0 0;\n",
       "      width: 32px;\n",
       "    }\n",
       "\n",
       "    .colab-df-convert:hover {\n",
       "      background-color: #E2EBFA;\n",
       "      box-shadow: 0px 1px 2px rgba(60, 64, 67, 0.3), 0px 1px 3px 1px rgba(60, 64, 67, 0.15);\n",
       "      fill: #174EA6;\n",
       "    }\n",
       "\n",
       "    [theme=dark] .colab-df-convert {\n",
       "      background-color: #3B4455;\n",
       "      fill: #D2E3FC;\n",
       "    }\n",
       "\n",
       "    [theme=dark] .colab-df-convert:hover {\n",
       "      background-color: #434B5C;\n",
       "      box-shadow: 0px 1px 3px 1px rgba(0, 0, 0, 0.15);\n",
       "      filter: drop-shadow(0px 1px 2px rgba(0, 0, 0, 0.3));\n",
       "      fill: #FFFFFF;\n",
       "    }\n",
       "  </style>\n",
       "\n",
       "      <script>\n",
       "        const buttonEl =\n",
       "          document.querySelector('#df-05e0730a-f4b4-4434-9d04-0c5f34ad3fd9 button.colab-df-convert');\n",
       "        buttonEl.style.display =\n",
       "          google.colab.kernel.accessAllowed ? 'block' : 'none';\n",
       "\n",
       "        async function convertToInteractive(key) {\n",
       "          const element = document.querySelector('#df-05e0730a-f4b4-4434-9d04-0c5f34ad3fd9');\n",
       "          const dataTable =\n",
       "            await google.colab.kernel.invokeFunction('convertToInteractive',\n",
       "                                                     [key], {});\n",
       "          if (!dataTable) return;\n",
       "\n",
       "          const docLinkHtml = 'Like what you see? Visit the ' +\n",
       "            '<a target=\"_blank\" href=https://colab.research.google.com/notebooks/data_table.ipynb>data table notebook</a>'\n",
       "            + ' to learn more about interactive tables.';\n",
       "          element.innerHTML = '';\n",
       "          dataTable['output_type'] = 'display_data';\n",
       "          await google.colab.output.renderOutput(dataTable, element);\n",
       "          const docLink = document.createElement('div');\n",
       "          docLink.innerHTML = docLinkHtml;\n",
       "          element.appendChild(docLink);\n",
       "        }\n",
       "      </script>\n",
       "    </div>\n",
       "  </div>\n",
       "  "
      ],
      "text/plain": [
       "         date   time  exits\n",
       "0  15-03-2022  15:03      3\n",
       "1  08-02-2022  10:00      5\n",
       "2  13-02-2022   9:43      4\n",
       "3  22-02-2022   9:26      1\n",
       "4  09-03-2022  16:07      1"
      ]
     },
     "execution_count": 174,
     "metadata": {},
     "output_type": "execute_result"
    }
   ],
   "source": [
    "df_exits.head(5)"
   ]
  },
  {
   "cell_type": "markdown",
   "metadata": {
    "id": "zr8CU__BXLBB"
   },
   "source": [
    "To suppress some unnecessary warings."
   ]
  },
  {
   "cell_type": "code",
   "execution_count": null,
   "metadata": {
    "id": "QOg995QxV6sq"
   },
   "outputs": [],
   "source": [
    "pd.options.mode.chained_assignment = None"
   ]
  },
  {
   "cell_type": "markdown",
   "metadata": {
    "id": "KEMwRzroXJ5p"
   },
   "source": [
    "Creating a datetime column from In Time and Date"
   ]
  },
  {
   "cell_type": "code",
   "execution_count": null,
   "metadata": {
    "id": "7TAqSVXnxh8V"
   },
   "outputs": [],
   "source": [
    "df['datetime'] = pd.to_datetime(df['In Time']+' '+df['Date'], format='%H:%M %d-%m-%y')"
   ]
  },
  {
   "cell_type": "markdown",
   "metadata": {
    "id": "oOjKWdTvXkga"
   },
   "source": [
    "Converting the various columns from string to datetime type"
   ]
  },
  {
   "cell_type": "code",
   "execution_count": null,
   "metadata": {
    "id": "69R00bnIxh8W"
   },
   "outputs": [],
   "source": [
    "df['Hour'] = df['datetime'].dt.hour\n",
    "df['Date'] = df['datetime'].dt.date\n",
    "df['In Time'] = df['datetime'].dt.time"
   ]
  },
  {
   "cell_type": "markdown",
   "metadata": {
    "id": "7ZbAWBngXtVr"
   },
   "source": [
    "Extracting the week numbers from dates"
   ]
  },
  {
   "cell_type": "code",
   "execution_count": null,
   "metadata": {
    "id": "ZUHw7n7Mxh8Y"
   },
   "outputs": [],
   "source": [
    "df['week_number'] = df['datetime'].dt.isocalendar().week"
   ]
  },
  {
   "cell_type": "markdown",
   "metadata": {
    "id": "tDCw8BoeHcPl"
   },
   "source": [
    "Making Timestamp column categorical."
   ]
  },
  {
   "cell_type": "code",
   "execution_count": null,
   "metadata": {
    "id": "zT76LSnAxh8Z"
   },
   "outputs": [],
   "source": [
    "cats = ['Mon', 'Tue', 'Wed', 'Thu', 'Fri', 'Sat', 'Sun']\n",
    "df['Timestamp'] = pd.Categorical(df['Timestamp'], categories=cats, ordered=True)"
   ]
  },
  {
   "cell_type": "markdown",
   "metadata": {
    "id": "QiFeaMvuHqBa"
   },
   "source": [
    "The total number of weeks represented in the data."
   ]
  },
  {
   "cell_type": "code",
   "execution_count": null,
   "metadata": {
    "id": "7uSI1k-2tdTx"
   },
   "outputs": [],
   "source": [
    "no_of_weeks = len(df['week_number'].unique())"
   ]
  },
  {
   "cell_type": "markdown",
   "metadata": {
    "id": "n9JjJjPXHw7O"
   },
   "source": [
    "Make a date time column from time and date for exits data."
   ]
  },
  {
   "cell_type": "code",
   "execution_count": null,
   "metadata": {
    "id": "r8eYQ38saDYw"
   },
   "outputs": [],
   "source": [
    "df_exits['datetime'] = pd.to_datetime(df_exits['time']+' '+df_exits['date'], format='%H:%M %d-%m-%Y')"
   ]
  },
  {
   "cell_type": "markdown",
   "metadata": {
    "id": "BoJLnwb4X0SI"
   },
   "source": [
    "# Analysis of the data."
   ]
  },
  {
   "cell_type": "markdown",
   "metadata": {
    "id": "rfTmbncKuj9e"
   },
   "source": [
    "**Predictive Analysis**\n",
    "\n",
    "Goal — Using historical or current data to find patterns to make predictions about the future\n",
    "\n",
    "Description:\n",
    "\n",
    "Accuracy of the predictions depends on the input variables\n",
    "Accuracy also depends on the types of models, a linear model might work well in some cases, and vice-versa\n",
    "Using a variable to predict another doesn’t denote a causal relationships\n",
    "\n",
    "In short it takes data from the past and present to make predictions about the future."
   ]
  },
  {
   "cell_type": "markdown",
   "metadata": {
    "id": "3Yu4Upb7Ii5O"
   },
   "source": [
    "## Columns and their description."
   ]
  },
  {
   "cell_type": "code",
   "execution_count": null,
   "metadata": {
    "colab": {
     "base_uri": "https://localhost:8080/"
    },
    "id": "xRpcCZYDIfkx",
    "outputId": "2cb47efb-e231-4038-b5af-95294c20f6a5"
   },
   "outputs": [
    {
     "data": {
      "text/plain": [
       "Index(['id', 'Name', 'Date', 'Timestamp', 'Place', 'In Time', 'Total',\n",
       "       'datetime', 'Hour', 'week_number'],\n",
       "      dtype='object')"
      ]
     },
     "execution_count": 182,
     "metadata": {},
     "output_type": "execute_result"
    }
   ],
   "source": [
    "df.columns"
   ]
  },
  {
   "cell_type": "markdown",
   "metadata": {
    "id": "9GufuaQzI0a4"
   },
   "source": [
    "- id : A numeric identifier for each visitor.\n",
    "- Name: Name of visitor.\n",
    "- Date: The date of visit of the visitor.\n",
    "- Timestamp (basically 'Day' a mistake during generation of data): Day of the week.\n",
    "- Place: The location of visit.\n",
    "- In Time: The time of scan of the QR Code at entry.\n",
    "- Total: The totalnumber of entries at that point of time.\n",
    "- datetime: The combined Date+Time data.\n",
    "- Hour: The hour slot of entry.\n",
    "- week_number: The number of week of that year.\n"
   ]
  },
  {
   "cell_type": "code",
   "execution_count": null,
   "metadata": {
    "colab": {
     "base_uri": "https://localhost:8080/",
     "height": 459
    },
    "id": "zyP9j16i5k4J",
    "outputId": "9fbbbc99-0d46-487f-d8b1-4a72f3e63bb7"
   },
   "outputs": [
    {
     "data": {
      "text/plain": [
       "<matplotlib.legend.Legend at 0x7f54e682e550>"
      ]
     },
     "execution_count": 183,
     "metadata": {},
     "output_type": "execute_result"
    },
    {
     "data": {
      "image/png": "[encoded data removed]",
      "text/plain": [
       "<Figure size 1440x504 with 1 Axes>"
      ]
     },
     "metadata": {
      "needs_background": "light"
     },
     "output_type": "display_data"
    }
   ],
   "source": [
    "fig = plt.figure(figsize=(20,7))\n",
    "sns.boxplot(x=\"Timestamp\", y=\"Total\", hue=\"Hour\", data=df)\n",
    "plt.legend(title='Hours:',bbox_to_anchor=(1.05, 1), loc=1)"
   ]
  },
  {
   "cell_type": "markdown",
   "metadata": {
    "id": "IAJgOJbXzZl_"
   },
   "source": [
    "## Visits grouped into weekdays"
   ]
  },
  {
   "cell_type": "code",
   "execution_count": null,
   "metadata": {
    "colab": {
     "base_uri": "https://localhost:8080/",
     "height": 308
    },
    "id": "FsVb39pPxh8Z",
    "outputId": "9c7c21a2-b97e-4c1e-faf9-b720d07b4480"
   },
   "outputs": [
    {
     "data": {
      "text/plain": [
       "<matplotlib.collections.LineCollection at 0x7f54e603da10>"
      ]
     },
     "execution_count": 184,
     "metadata": {},
     "output_type": "execute_result"
    },
    {
     "data": {
      "image/png": "[encoded data removed]",
      "text/plain": [
       "<Figure size 432x288 with 1 Axes>"
      ]
     },
     "metadata": {
      "needs_background": "light"
     },
     "output_type": "display_data"
    }
   ],
   "source": [
    "df.groupby('Timestamp')['Total'].sum().divide(other=no_of_weeks).plot(kind='bar',colormap = 'Set1')\n",
    "plt.ylabel('Visits')\n",
    "capacity_of_location = df.groupby('Timestamp')['Total'].sum().divide(other=no_of_weeks).values.mean()\n",
    "plt.hlines(capacity_of_location, xmin = -1, xmax=7, linestyles='dashed', label='mean visits', colors='b')"
   ]
  },
  {
   "cell_type": "markdown",
   "metadata": {
    "id": "TkG6-1XdzkRa"
   },
   "source": [
    "## Visits grouped into time slots"
   ]
  },
  {
   "cell_type": "code",
   "execution_count": null,
   "metadata": {
    "colab": {
     "base_uri": "https://localhost:8080/",
     "height": 299
    },
    "id": "Zkr_zfV3xh8a",
    "outputId": "dad885e3-7025-4d14-a4be-5e72fb49a2ec"
   },
   "outputs": [
    {
     "data": {
      "text/plain": [
       "<matplotlib.collections.LineCollection at 0x7f54e5ffa110>"
      ]
     },
     "execution_count": 185,
     "metadata": {},
     "output_type": "execute_result"
    },
    {
     "data": {
      "image/png": "[encoded data removed]",
      "text/plain": [
       "<Figure size 432x288 with 1 Axes>"
      ]
     },
     "metadata": {
      "needs_background": "light"
     },
     "output_type": "display_data"
    }
   ],
   "source": [
    "df.groupby('Hour')['Total'].sum().divide(other=no_of_weeks).plot(kind='bar',colormap = 'Set1')\n",
    "plt.ylabel('Visits')\n",
    "capacity_of_location = df.groupby('Hour')['Total'].sum().divide(other=no_of_weeks).values.mean()\n",
    "plt.hlines(capacity_of_location,xmin = -1, xmax=8,linestyles='dashed', label='mean visits',colors='b')"
   ]
  },
  {
   "cell_type": "markdown",
   "metadata": {
    "id": "3SCqrSrOzpdf"
   },
   "source": [
    "## Visits for time slots for each weekday"
   ]
  },
  {
   "cell_type": "code",
   "execution_count": null,
   "metadata": {
    "colab": {
     "base_uri": "https://localhost:8080/",
     "height": 621
    },
    "id": "3PCvNlTlxh8a",
    "outputId": "f9e0c824-bac8-44a1-f05b-a5e8a828a6eb"
   },
   "outputs": [
    {
     "data": {
      "image/png": "[encoded data removed]",
      "text/plain": [
       "<Figure size 1440x720 with 8 Axes>"
      ]
     },
     "metadata": {
      "needs_background": "light"
     },
     "output_type": "display_data"
    }
   ],
   "source": [
    "fig, ax = plt.subplots(ncols=4,nrows=2, figsize = (20,10))\n",
    "index = 0\n",
    "ax = ax.flatten()\n",
    "for weekday in cats:\n",
    "    ax[index].bar(df.groupby(['Timestamp','Hour'])['Total'].sum()[(weekday)].index, df.groupby(['Timestamp','Hour'])['Total'].sum().divide(other=no_of_weeks)[(weekday)].values)\n",
    "    ax[index].set_ylabel('Visits')\n",
    "    ax[index].set_xlabel('Hour of day')\n",
    "    ax[index].set_title(weekday+' Time vs Visits')\n",
    "    capacity_of_location = df.groupby(['Timestamp','Hour'])['Total'].sum().divide(other=no_of_weeks)[(weekday)].values.mean()\n",
    "    ax[index].hlines(capacity_of_location, xmin = 8, xmax=17,linestyles='dashed', label='mean visits',colors='r')\n",
    "    index+=1"
   ]
  },
  {
   "cell_type": "markdown",
   "metadata": {
    "id": "TxYsOK3iz7rF"
   },
   "source": [
    "## Prepare dataframe for time series analysis and modeling"
   ]
  },
  {
   "cell_type": "code",
   "execution_count": null,
   "metadata": {
    "colab": {
     "base_uri": "https://localhost:8080/"
    },
    "id": "wpswlaDpxh8b",
    "outputId": "e4565e17-3b1b-4b37-a62c-666433dd06e1"
   },
   "outputs": [
    {
     "name": "stdout",
     "output_type": "stream",
     "text": [
      "<class 'pandas.core.frame.DataFrame'>\n",
      "Int64Index: 340 entries, 9 to 2397\n",
      "Data columns (total 10 columns):\n",
      " #   Column       Non-Null Count  Dtype         \n",
      "---  ------       --------------  -----         \n",
      " 0   id           340 non-null    int64         \n",
      " 1   Name         340 non-null    object        \n",
      " 2   Date         340 non-null    object        \n",
      " 3   Timestamp    340 non-null    category      \n",
      " 4   Place        340 non-null    object        \n",
      " 5   In Time      340 non-null    object        \n",
      " 6   Total        340 non-null    int64         \n",
      " 7   datetime     340 non-null    datetime64[ns]\n",
      " 8   Hour         340 non-null    int64         \n",
      " 9   week_number  340 non-null    UInt32        \n",
      "dtypes: UInt32(1), category(1), datetime64[ns](1), int64(3), object(4)\n",
      "memory usage: 34.3+ KB\n"
     ]
    }
   ],
   "source": [
    "df.info()"
   ]
  },
  {
   "cell_type": "code",
   "execution_count": null,
   "metadata": {
    "colab": {
     "base_uri": "https://localhost:8080/"
    },
    "id": "tJVI_rg-ao4h",
    "outputId": "1ffb8d8f-6eaf-4f53-f734-62d7899bde41"
   },
   "outputs": [
    {
     "name": "stdout",
     "output_type": "stream",
     "text": [
      "<class 'pandas.core.frame.DataFrame'>\n",
      "RangeIndex: 400 entries, 0 to 399\n",
      "Data columns (total 4 columns):\n",
      " #   Column    Non-Null Count  Dtype         \n",
      "---  ------    --------------  -----         \n",
      " 0   date      400 non-null    object        \n",
      " 1   time      400 non-null    object        \n",
      " 2   exits     400 non-null    int64         \n",
      " 3   datetime  400 non-null    datetime64[ns]\n",
      "dtypes: datetime64[ns](1), int64(1), object(2)\n",
      "memory usage: 12.6+ KB\n"
     ]
    }
   ],
   "source": [
    "df_exits.info()"
   ]
  },
  {
   "cell_type": "code",
   "execution_count": null,
   "metadata": {
    "id": "l9Bc8-xIxh8b"
   },
   "outputs": [],
   "source": [
    "#df = df[df['week_number']>(max(df['week_number'].unique())-3)]"
   ]
  },
  {
   "cell_type": "markdown",
   "metadata": {
    "id": "vzfchw5nYL7k"
   },
   "source": [
    "### Sorting the data by date time to make time series"
   ]
  },
  {
   "cell_type": "code",
   "execution_count": null,
   "metadata": {
    "id": "3eUqlzgvxh8c"
   },
   "outputs": [],
   "source": [
    "df_sorted = df.sort_values('datetime')\n",
    "df_exits = df_exits.sort_values('datetime')"
   ]
  },
  {
   "cell_type": "code",
   "execution_count": null,
   "metadata": {
    "colab": {
     "base_uri": "https://localhost:8080/",
     "height": 206
    },
    "id": "5OxTJ2juKP_F",
    "outputId": "9828e23d-dcfe-455e-83d4-5aaba62efbd9"
   },
   "outputs": [
    {
     "data": {
      "text/html": [
       "\n",
       "  <div id=\"df-a108baec-904f-4126-87fb-700aef192e02\">\n",
       "    <div class=\"colab-df-container\">\n",
       "      <div>\n",
       "<style scoped>\n",
       "    .dataframe tbody tr th:only-of-type {\n",
       "        vertical-align: middle;\n",
       "    }\n",
       "\n",
       "    .dataframe tbody tr th {\n",
       "        vertical-align: top;\n",
       "    }\n",
       "\n",
       "    .dataframe thead th {\n",
       "        text-align: right;\n",
       "    }\n",
       "</style>\n",
       "<table border=\"1\" class=\"dataframe\">\n",
       "  <thead>\n",
       "    <tr style=\"text-align: right;\">\n",
       "      <th></th>\n",
       "      <th>id</th>\n",
       "      <th>Name</th>\n",
       "      <th>Date</th>\n",
       "      <th>Timestamp</th>\n",
       "      <th>Place</th>\n",
       "      <th>In Time</th>\n",
       "      <th>Total</th>\n",
       "      <th>datetime</th>\n",
       "      <th>Hour</th>\n",
       "      <th>week_number</th>\n",
       "    </tr>\n",
       "  </thead>\n",
       "  <tbody>\n",
       "    <tr>\n",
       "      <th>1151</th>\n",
       "      <td>452</td>\n",
       "      <td>Robbi Varren</td>\n",
       "      <td>2022-03-01</td>\n",
       "      <td>Tue</td>\n",
       "      <td>Qutub Minar</td>\n",
       "      <td>09:06:00</td>\n",
       "      <td>8</td>\n",
       "      <td>2022-03-01 09:06:00</td>\n",
       "      <td>9</td>\n",
       "      <td>9</td>\n",
       "    </tr>\n",
       "    <tr>\n",
       "      <th>1849</th>\n",
       "      <td>450</td>\n",
       "      <td>Richard Hulke</td>\n",
       "      <td>2022-03-01</td>\n",
       "      <td>Tue</td>\n",
       "      <td>Qutub Minar</td>\n",
       "      <td>09:39:00</td>\n",
       "      <td>5</td>\n",
       "      <td>2022-03-01 09:39:00</td>\n",
       "      <td>9</td>\n",
       "      <td>9</td>\n",
       "    </tr>\n",
       "    <tr>\n",
       "      <th>617</th>\n",
       "      <td>618</td>\n",
       "      <td>Grange MacCallester</td>\n",
       "      <td>2022-03-01</td>\n",
       "      <td>Tue</td>\n",
       "      <td>Qutub Minar</td>\n",
       "      <td>09:53:00</td>\n",
       "      <td>8</td>\n",
       "      <td>2022-03-01 09:53:00</td>\n",
       "      <td>9</td>\n",
       "      <td>9</td>\n",
       "    </tr>\n",
       "    <tr>\n",
       "      <th>307</th>\n",
       "      <td>308</td>\n",
       "      <td>Lannie Brisland</td>\n",
       "      <td>2022-03-01</td>\n",
       "      <td>Tue</td>\n",
       "      <td>Qutub Minar</td>\n",
       "      <td>11:31:00</td>\n",
       "      <td>3</td>\n",
       "      <td>2022-03-01 11:31:00</td>\n",
       "      <td>11</td>\n",
       "      <td>9</td>\n",
       "    </tr>\n",
       "    <tr>\n",
       "      <th>220</th>\n",
       "      <td>221</td>\n",
       "      <td>Isadore Gritland</td>\n",
       "      <td>2022-03-01</td>\n",
       "      <td>Tue</td>\n",
       "      <td>Qutub Minar</td>\n",
       "      <td>11:54:00</td>\n",
       "      <td>3</td>\n",
       "      <td>2022-03-01 11:54:00</td>\n",
       "      <td>11</td>\n",
       "      <td>9</td>\n",
       "    </tr>\n",
       "  </tbody>\n",
       "</table>\n",
       "</div>\n",
       "      <button class=\"colab-df-convert\" onclick=\"convertToInteractive('df-a108baec-904f-4126-87fb-700aef192e02')\"\n",
       "              title=\"Convert this dataframe to an interactive table.\"\n",
       "              style=\"display:none;\">\n",
       "        \n",
       "  <svg xmlns=\"http://www.w3.org/2000/svg\" height=\"24px\"viewBox=\"0 0 24 24\"\n",
       "       width=\"24px\">\n",
       "    <path d=\"M0 0h24v24H0V0z\" fill=\"none\"/>\n",
       "    <path d=\"M18.56 5.44l.94 2.06.94-2.06 2.06-.94-2.06-.94-.94-2.06-.94 2.06-2.06.94zm-11 1L8.5 8.5l.94-2.06 2.06-.94-2.06-.94L8.5 2.5l-.94 2.06-2.06.94zm10 10l.94 2.06.94-2.06 2.06-.94-2.06-.94-.94-2.06-.94 2.06-2.06.94z\"/><path d=\"M17.41 7.96l-1.37-1.37c-.4-.4-.92-.59-1.43-.59-.52 0-1.04.2-1.43.59L10.3 9.45l-7.72 7.72c-.78.78-.78 2.05 0 2.83L4 21.41c.39.39.9.59 1.41.59.51 0 1.02-.2 1.41-.59l7.78-7.78 2.81-2.81c.8-.78.8-2.07 0-2.86zM5.41 20L4 18.59l7.72-7.72 1.47 1.35L5.41 20z\"/>\n",
       "  </svg>\n",
       "      </button>\n",
       "      \n",
       "  <style>\n",
       "    .colab-df-container {\n",
       "      display:flex;\n",
       "      flex-wrap:wrap;\n",
       "      gap: 12px;\n",
       "    }\n",
       "\n",
       "    .colab-df-convert {\n",
       "      background-color: #E8F0FE;\n",
       "      border: none;\n",
       "      border-radius: 50%;\n",
       "      cursor: pointer;\n",
       "      display: none;\n",
       "      fill: #1967D2;\n",
       "      height: 32px;\n",
       "      padding: 0 0 0 0;\n",
       "      width: 32px;\n",
       "    }\n",
       "\n",
       "    .colab-df-convert:hover {\n",
       "      background-color: #E2EBFA;\n",
       "      box-shadow: 0px 1px 2px rgba(60, 64, 67, 0.3), 0px 1px 3px 1px rgba(60, 64, 67, 0.15);\n",
       "      fill: #174EA6;\n",
       "    }\n",
       "\n",
       "    [theme=dark] .colab-df-convert {\n",
       "      background-color: #3B4455;\n",
       "      fill: #D2E3FC;\n",
       "    }\n",
       "\n",
       "    [theme=dark] .colab-df-convert:hover {\n",
       "      background-color: #434B5C;\n",
       "      box-shadow: 0px 1px 3px 1px rgba(0, 0, 0, 0.15);\n",
       "      filter: drop-shadow(0px 1px 2px rgba(0, 0, 0, 0.3));\n",
       "      fill: #FFFFFF;\n",
       "    }\n",
       "  </style>\n",
       "\n",
       "      <script>\n",
       "        const buttonEl =\n",
       "          document.querySelector('#df-a108baec-904f-4126-87fb-700aef192e02 button.colab-df-convert');\n",
       "        buttonEl.style.display =\n",
       "          google.colab.kernel.accessAllowed ? 'block' : 'none';\n",
       "\n",
       "        async function convertToInteractive(key) {\n",
       "          const element = document.querySelector('#df-a108baec-904f-4126-87fb-700aef192e02');\n",
       "          const dataTable =\n",
       "            await google.colab.kernel.invokeFunction('convertToInteractive',\n",
       "                                                     [key], {});\n",
       "          if (!dataTable) return;\n",
       "\n",
       "          const docLinkHtml = 'Like what you see? Visit the ' +\n",
       "            '<a target=\"_blank\" href=https://colab.research.google.com/notebooks/data_table.ipynb>data table notebook</a>'\n",
       "            + ' to learn more about interactive tables.';\n",
       "          element.innerHTML = '';\n",
       "          dataTable['output_type'] = 'display_data';\n",
       "          await google.colab.output.renderOutput(dataTable, element);\n",
       "          const docLink = document.createElement('div');\n",
       "          docLink.innerHTML = docLinkHtml;\n",
       "          element.appendChild(docLink);\n",
       "        }\n",
       "      </script>\n",
       "    </div>\n",
       "  </div>\n",
       "  "
      ],
      "text/plain": [
       "       id                 Name        Date Timestamp        Place   In Time  \\\n",
       "1151  452         Robbi Varren  2022-03-01       Tue  Qutub Minar  09:06:00   \n",
       "1849  450        Richard Hulke  2022-03-01       Tue  Qutub Minar  09:39:00   \n",
       "617   618  Grange MacCallester  2022-03-01       Tue  Qutub Minar  09:53:00   \n",
       "307   308      Lannie Brisland  2022-03-01       Tue  Qutub Minar  11:31:00   \n",
       "220   221     Isadore Gritland  2022-03-01       Tue  Qutub Minar  11:54:00   \n",
       "\n",
       "      Total            datetime  Hour  week_number  \n",
       "1151      8 2022-03-01 09:06:00     9            9  \n",
       "1849      5 2022-03-01 09:39:00     9            9  \n",
       "617       8 2022-03-01 09:53:00     9            9  \n",
       "307       3 2022-03-01 11:31:00    11            9  \n",
       "220       3 2022-03-01 11:54:00    11            9  "
      ]
     },
     "execution_count": 91,
     "metadata": {},
     "output_type": "execute_result"
    }
   ],
   "source": [
    "df_sorted.head(5)"
   ]
  },
  {
   "cell_type": "code",
   "execution_count": null,
   "metadata": {
    "colab": {
     "base_uri": "https://localhost:8080/",
     "height": 206
    },
    "id": "igyVWCrZAULW",
    "outputId": "618b8b07-308f-4410-f515-fcaf37161127"
   },
   "outputs": [
    {
     "data": {
      "text/html": [
       "\n",
       "  <div id=\"df-d97be8a3-78de-44d0-85d6-f0989e0b54f8\">\n",
       "    <div class=\"colab-df-container\">\n",
       "      <div>\n",
       "<style scoped>\n",
       "    .dataframe tbody tr th:only-of-type {\n",
       "        vertical-align: middle;\n",
       "    }\n",
       "\n",
       "    .dataframe tbody tr th {\n",
       "        vertical-align: top;\n",
       "    }\n",
       "\n",
       "    .dataframe thead th {\n",
       "        text-align: right;\n",
       "    }\n",
       "</style>\n",
       "<table border=\"1\" class=\"dataframe\">\n",
       "  <thead>\n",
       "    <tr style=\"text-align: right;\">\n",
       "      <th></th>\n",
       "      <th>date</th>\n",
       "      <th>time</th>\n",
       "      <th>exits</th>\n",
       "      <th>datetime</th>\n",
       "    </tr>\n",
       "  </thead>\n",
       "  <tbody>\n",
       "    <tr>\n",
       "      <th>225</th>\n",
       "      <td>01-02-2022</td>\n",
       "      <td>9:06</td>\n",
       "      <td>7</td>\n",
       "      <td>2022-02-01 09:06:00</td>\n",
       "    </tr>\n",
       "    <tr>\n",
       "      <th>73</th>\n",
       "      <td>01-02-2022</td>\n",
       "      <td>9:23</td>\n",
       "      <td>1</td>\n",
       "      <td>2022-02-01 09:23:00</td>\n",
       "    </tr>\n",
       "    <tr>\n",
       "      <th>149</th>\n",
       "      <td>01-02-2022</td>\n",
       "      <td>10:13</td>\n",
       "      <td>6</td>\n",
       "      <td>2022-02-01 10:13:00</td>\n",
       "    </tr>\n",
       "    <tr>\n",
       "      <th>171</th>\n",
       "      <td>01-02-2022</td>\n",
       "      <td>10:21</td>\n",
       "      <td>1</td>\n",
       "      <td>2022-02-01 10:21:00</td>\n",
       "    </tr>\n",
       "    <tr>\n",
       "      <th>378</th>\n",
       "      <td>01-02-2022</td>\n",
       "      <td>10:50</td>\n",
       "      <td>5</td>\n",
       "      <td>2022-02-01 10:50:00</td>\n",
       "    </tr>\n",
       "  </tbody>\n",
       "</table>\n",
       "</div>\n",
       "      <button class=\"colab-df-convert\" onclick=\"convertToInteractive('df-d97be8a3-78de-44d0-85d6-f0989e0b54f8')\"\n",
       "              title=\"Convert this dataframe to an interactive table.\"\n",
       "              style=\"display:none;\">\n",
       "        \n",
       "  <svg xmlns=\"http://www.w3.org/2000/svg\" height=\"24px\"viewBox=\"0 0 24 24\"\n",
       "       width=\"24px\">\n",
       "    <path d=\"M0 0h24v24H0V0z\" fill=\"none\"/>\n",
       "    <path d=\"M18.56 5.44l.94 2.06.94-2.06 2.06-.94-2.06-.94-.94-2.06-.94 2.06-2.06.94zm-11 1L8.5 8.5l.94-2.06 2.06-.94-2.06-.94L8.5 2.5l-.94 2.06-2.06.94zm10 10l.94 2.06.94-2.06 2.06-.94-2.06-.94-.94-2.06-.94 2.06-2.06.94z\"/><path d=\"M17.41 7.96l-1.37-1.37c-.4-.4-.92-.59-1.43-.59-.52 0-1.04.2-1.43.59L10.3 9.45l-7.72 7.72c-.78.78-.78 2.05 0 2.83L4 21.41c.39.39.9.59 1.41.59.51 0 1.02-.2 1.41-.59l7.78-7.78 2.81-2.81c.8-.78.8-2.07 0-2.86zM5.41 20L4 18.59l7.72-7.72 1.47 1.35L5.41 20z\"/>\n",
       "  </svg>\n",
       "      </button>\n",
       "      \n",
       "  <style>\n",
       "    .colab-df-container {\n",
       "      display:flex;\n",
       "      flex-wrap:wrap;\n",
       "      gap: 12px;\n",
       "    }\n",
       "\n",
       "    .colab-df-convert {\n",
       "      background-color: #E8F0FE;\n",
       "      border: none;\n",
       "      border-radius: 50%;\n",
       "      cursor: pointer;\n",
       "      display: none;\n",
       "      fill: #1967D2;\n",
       "      height: 32px;\n",
       "      padding: 0 0 0 0;\n",
       "      width: 32px;\n",
       "    }\n",
       "\n",
       "    .colab-df-convert:hover {\n",
       "      background-color: #E2EBFA;\n",
       "      box-shadow: 0px 1px 2px rgba(60, 64, 67, 0.3), 0px 1px 3px 1px rgba(60, 64, 67, 0.15);\n",
       "      fill: #174EA6;\n",
       "    }\n",
       "\n",
       "    [theme=dark] .colab-df-convert {\n",
       "      background-color: #3B4455;\n",
       "      fill: #D2E3FC;\n",
       "    }\n",
       "\n",
       "    [theme=dark] .colab-df-convert:hover {\n",
       "      background-color: #434B5C;\n",
       "      box-shadow: 0px 1px 3px 1px rgba(0, 0, 0, 0.15);\n",
       "      filter: drop-shadow(0px 1px 2px rgba(0, 0, 0, 0.3));\n",
       "      fill: #FFFFFF;\n",
       "    }\n",
       "  </style>\n",
       "\n",
       "      <script>\n",
       "        const buttonEl =\n",
       "          document.querySelector('#df-d97be8a3-78de-44d0-85d6-f0989e0b54f8 button.colab-df-convert');\n",
       "        buttonEl.style.display =\n",
       "          google.colab.kernel.accessAllowed ? 'block' : 'none';\n",
       "\n",
       "        async function convertToInteractive(key) {\n",
       "          const element = document.querySelector('#df-d97be8a3-78de-44d0-85d6-f0989e0b54f8');\n",
       "          const dataTable =\n",
       "            await google.colab.kernel.invokeFunction('convertToInteractive',\n",
       "                                                     [key], {});\n",
       "          if (!dataTable) return;\n",
       "\n",
       "          const docLinkHtml = 'Like what you see? Visit the ' +\n",
       "            '<a target=\"_blank\" href=https://colab.research.google.com/notebooks/data_table.ipynb>data table notebook</a>'\n",
       "            + ' to learn more about interactive tables.';\n",
       "          element.innerHTML = '';\n",
       "          dataTable['output_type'] = 'display_data';\n",
       "          await google.colab.output.renderOutput(dataTable, element);\n",
       "          const docLink = document.createElement('div');\n",
       "          docLink.innerHTML = docLinkHtml;\n",
       "          element.appendChild(docLink);\n",
       "        }\n",
       "      </script>\n",
       "    </div>\n",
       "  </div>\n",
       "  "
      ],
      "text/plain": [
       "           date   time  exits            datetime\n",
       "225  01-02-2022   9:06      7 2022-02-01 09:06:00\n",
       "73   01-02-2022   9:23      1 2022-02-01 09:23:00\n",
       "149  01-02-2022  10:13      6 2022-02-01 10:13:00\n",
       "171  01-02-2022  10:21      1 2022-02-01 10:21:00\n",
       "378  01-02-2022  10:50      5 2022-02-01 10:50:00"
      ]
     },
     "execution_count": 92,
     "metadata": {},
     "output_type": "execute_result"
    }
   ],
   "source": [
    "df_exits.head(5)"
   ]
  },
  {
   "cell_type": "markdown",
   "metadata": {
    "id": "DRGr-m1kJfKd"
   },
   "source": [
    "### Detour: Rough estimation of time taken to visit this place from entry to exit."
   ]
  },
  {
   "cell_type": "code",
   "execution_count": null,
   "metadata": {
    "colab": {
     "base_uri": "https://localhost:8080/"
    },
    "id": "fO4jBXzAJelu",
    "outputId": "4b6f0509-9693-45e7-a82c-f01f4df0c062"
   },
   "outputs": [
    {
     "name": "stdout",
     "output_type": "stream",
     "text": [
      "[Timedelta('-28 days +00:00:00'), Timedelta('-29 days +23:44:00'), Timedelta('-28 days +00:20:00'), Timedelta('-29 days +22:50:00'), Timedelta('-29 days +22:56:00'), Timedelta('-29 days +21:18:00'), Timedelta('-29 days +21:28:00'), Timedelta('-29 days +21:47:00'), Timedelta('-29 days +22:58:00'), Timedelta('-28 days +00:10:00')]\n",
      "Rough estimation of time taken is  -29 days +22:57:06\n"
     ]
    }
   ],
   "source": [
    "import datetime\n",
    "diff = []\n",
    "for (i, row1), (j, row2) in zip(df_sorted.head(10).iterrows(), df_exits.head(10).iterrows()):\n",
    "  diff.append(row2['datetime'] - row1['datetime'])\n",
    "print(diff)\n",
    "average = sum(diff, datetime.timedelta(0)) / len(diff)\n",
    "print('Rough estimation of time taken is ', average)"
   ]
  },
  {
   "cell_type": "markdown",
   "metadata": {
    "id": "NBlugFSrYnSV"
   },
   "source": [
    "Making seconds and minutes as zero to make hourly slots of the data and to predict crowd for each slot."
   ]
  },
  {
   "cell_type": "code",
   "execution_count": null,
   "metadata": {
    "id": "ZYbgGHRexh8c"
   },
   "outputs": [],
   "source": [
    "df_sorted['datetime'] = pd.to_datetime(df_sorted['datetime']).dt.floor('H')\n",
    "df_exits['datetime'] = pd.to_datetime(df_exits['datetime']).dt.floor('H')"
   ]
  },
  {
   "cell_type": "code",
   "execution_count": null,
   "metadata": {
    "id": "aGWKxj0mxh8d"
   },
   "outputs": [],
   "source": [
    "# df_sorted.drop_duplicates(inplace=True)\n",
    "# df_exits.drop_duplicates(inplace=True)"
   ]
  },
  {
   "cell_type": "markdown",
   "metadata": {
    "id": "T_YaijQPRRff"
   },
   "source": [
    "Setting date time column as index of dataframe for time series analyis."
   ]
  },
  {
   "cell_type": "code",
   "execution_count": null,
   "metadata": {
    "id": "VO1R2sN9xh8d"
   },
   "outputs": [],
   "source": [
    "df_ts = df_sorted[['datetime', 'Total']].set_index('datetime')\n",
    "df_ts_exits = df_exits[['datetime', 'exits']].set_index('datetime')"
   ]
  },
  {
   "cell_type": "markdown",
   "metadata": {
    "id": "aGuehWK0Y_ty"
   },
   "source": [
    "Resampling the series to hourly frequency to make continuous data without any gaps."
   ]
  },
  {
   "cell_type": "code",
   "execution_count": null,
   "metadata": {
    "id": "BUlw3l5Cxh8d"
   },
   "outputs": [],
   "source": [
    "df_ts = df_ts.resample('H').sum().ffill().reset_index()\n",
    "df_ts_exits = df_ts_exits.resample('H').sum().ffill().reset_index()"
   ]
  },
  {
   "cell_type": "code",
   "execution_count": null,
   "metadata": {
    "id": "ISvJSOJ5xh8e"
   },
   "outputs": [],
   "source": [
    "df_ts.set_index('datetime',inplace=True)\n",
    "df_ts_exits.set_index('datetime',inplace=True)"
   ]
  },
  {
   "cell_type": "code",
   "execution_count": null,
   "metadata": {
    "colab": {
     "base_uri": "https://localhost:8080/",
     "height": 238
    },
    "id": "rVWTVFeJxh8e",
    "outputId": "aebe9ed5-391f-4af0-e88e-1f5e2ea0efc3"
   },
   "outputs": [
    {
     "data": {
      "text/html": [
       "\n",
       "  <div id=\"df-432667ff-6b3f-479b-afdb-affe54c75801\">\n",
       "    <div class=\"colab-df-container\">\n",
       "      <div>\n",
       "<style scoped>\n",
       "    .dataframe tbody tr th:only-of-type {\n",
       "        vertical-align: middle;\n",
       "    }\n",
       "\n",
       "    .dataframe tbody tr th {\n",
       "        vertical-align: top;\n",
       "    }\n",
       "\n",
       "    .dataframe thead th {\n",
       "        text-align: right;\n",
       "    }\n",
       "</style>\n",
       "<table border=\"1\" class=\"dataframe\">\n",
       "  <thead>\n",
       "    <tr style=\"text-align: right;\">\n",
       "      <th></th>\n",
       "      <th>Total</th>\n",
       "    </tr>\n",
       "    <tr>\n",
       "      <th>datetime</th>\n",
       "      <th></th>\n",
       "    </tr>\n",
       "  </thead>\n",
       "  <tbody>\n",
       "    <tr>\n",
       "      <th>2022-03-01 09:00:00</th>\n",
       "      <td>21</td>\n",
       "    </tr>\n",
       "    <tr>\n",
       "      <th>2022-03-01 10:00:00</th>\n",
       "      <td>0</td>\n",
       "    </tr>\n",
       "    <tr>\n",
       "      <th>2022-03-01 11:00:00</th>\n",
       "      <td>6</td>\n",
       "    </tr>\n",
       "    <tr>\n",
       "      <th>2022-03-01 12:00:00</th>\n",
       "      <td>0</td>\n",
       "    </tr>\n",
       "    <tr>\n",
       "      <th>2022-03-01 13:00:00</th>\n",
       "      <td>1</td>\n",
       "    </tr>\n",
       "  </tbody>\n",
       "</table>\n",
       "</div>\n",
       "      <button class=\"colab-df-convert\" onclick=\"convertToInteractive('df-432667ff-6b3f-479b-afdb-affe54c75801')\"\n",
       "              title=\"Convert this dataframe to an interactive table.\"\n",
       "              style=\"display:none;\">\n",
       "        \n",
       "  <svg xmlns=\"http://www.w3.org/2000/svg\" height=\"24px\"viewBox=\"0 0 24 24\"\n",
       "       width=\"24px\">\n",
       "    <path d=\"M0 0h24v24H0V0z\" fill=\"none\"/>\n",
       "    <path d=\"M18.56 5.44l.94 2.06.94-2.06 2.06-.94-2.06-.94-.94-2.06-.94 2.06-2.06.94zm-11 1L8.5 8.5l.94-2.06 2.06-.94-2.06-.94L8.5 2.5l-.94 2.06-2.06.94zm10 10l.94 2.06.94-2.06 2.06-.94-2.06-.94-.94-2.06-.94 2.06-2.06.94z\"/><path d=\"M17.41 7.96l-1.37-1.37c-.4-.4-.92-.59-1.43-.59-.52 0-1.04.2-1.43.59L10.3 9.45l-7.72 7.72c-.78.78-.78 2.05 0 2.83L4 21.41c.39.39.9.59 1.41.59.51 0 1.02-.2 1.41-.59l7.78-7.78 2.81-2.81c.8-.78.8-2.07 0-2.86zM5.41 20L4 18.59l7.72-7.72 1.47 1.35L5.41 20z\"/>\n",
       "  </svg>\n",
       "      </button>\n",
       "      \n",
       "  <style>\n",
       "    .colab-df-container {\n",
       "      display:flex;\n",
       "      flex-wrap:wrap;\n",
       "      gap: 12px;\n",
       "    }\n",
       "\n",
       "    .colab-df-convert {\n",
       "      background-color: #E8F0FE;\n",
       "      border: none;\n",
       "      border-radius: 50%;\n",
       "      cursor: pointer;\n",
       "      display: none;\n",
       "      fill: #1967D2;\n",
       "      height: 32px;\n",
       "      padding: 0 0 0 0;\n",
       "      width: 32px;\n",
       "    }\n",
       "\n",
       "    .colab-df-convert:hover {\n",
       "      background-color: #E2EBFA;\n",
       "      box-shadow: 0px 1px 2px rgba(60, 64, 67, 0.3), 0px 1px 3px 1px rgba(60, 64, 67, 0.15);\n",
       "      fill: #174EA6;\n",
       "    }\n",
       "\n",
       "    [theme=dark] .colab-df-convert {\n",
       "      background-color: #3B4455;\n",
       "      fill: #D2E3FC;\n",
       "    }\n",
       "\n",
       "    [theme=dark] .colab-df-convert:hover {\n",
       "      background-color: #434B5C;\n",
       "      box-shadow: 0px 1px 3px 1px rgba(0, 0, 0, 0.15);\n",
       "      filter: drop-shadow(0px 1px 2px rgba(0, 0, 0, 0.3));\n",
       "      fill: #FFFFFF;\n",
       "    }\n",
       "  </style>\n",
       "\n",
       "      <script>\n",
       "        const buttonEl =\n",
       "          document.querySelector('#df-432667ff-6b3f-479b-afdb-affe54c75801 button.colab-df-convert');\n",
       "        buttonEl.style.display =\n",
       "          google.colab.kernel.accessAllowed ? 'block' : 'none';\n",
       "\n",
       "        async function convertToInteractive(key) {\n",
       "          const element = document.querySelector('#df-432667ff-6b3f-479b-afdb-affe54c75801');\n",
       "          const dataTable =\n",
       "            await google.colab.kernel.invokeFunction('convertToInteractive',\n",
       "                                                     [key], {});\n",
       "          if (!dataTable) return;\n",
       "\n",
       "          const docLinkHtml = 'Like what you see? Visit the ' +\n",
       "            '<a target=\"_blank\" href=https://colab.research.google.com/notebooks/data_table.ipynb>data table notebook</a>'\n",
       "            + ' to learn more about interactive tables.';\n",
       "          element.innerHTML = '';\n",
       "          dataTable['output_type'] = 'display_data';\n",
       "          await google.colab.output.renderOutput(dataTable, element);\n",
       "          const docLink = document.createElement('div');\n",
       "          docLink.innerHTML = docLinkHtml;\n",
       "          element.appendChild(docLink);\n",
       "        }\n",
       "      </script>\n",
       "    </div>\n",
       "  </div>\n",
       "  "
      ],
      "text/plain": [
       "                     Total\n",
       "datetime                  \n",
       "2022-03-01 09:00:00     21\n",
       "2022-03-01 10:00:00      0\n",
       "2022-03-01 11:00:00      6\n",
       "2022-03-01 12:00:00      0\n",
       "2022-03-01 13:00:00      1"
      ]
     },
     "execution_count": 99,
     "metadata": {},
     "output_type": "execute_result"
    }
   ],
   "source": [
    "df_ts.head(5)"
   ]
  },
  {
   "cell_type": "code",
   "execution_count": null,
   "metadata": {
    "colab": {
     "base_uri": "https://localhost:8080/",
     "height": 238
    },
    "id": "S--jnmRbcTYD",
    "outputId": "5c2afcc5-d70f-418a-e3dd-c60ceda3c79e"
   },
   "outputs": [
    {
     "data": {
      "text/html": [
       "\n",
       "  <div id=\"df-d4e3e700-1dd7-4401-adde-2c24f9001f33\">\n",
       "    <div class=\"colab-df-container\">\n",
       "      <div>\n",
       "<style scoped>\n",
       "    .dataframe tbody tr th:only-of-type {\n",
       "        vertical-align: middle;\n",
       "    }\n",
       "\n",
       "    .dataframe tbody tr th {\n",
       "        vertical-align: top;\n",
       "    }\n",
       "\n",
       "    .dataframe thead th {\n",
       "        text-align: right;\n",
       "    }\n",
       "</style>\n",
       "<table border=\"1\" class=\"dataframe\">\n",
       "  <thead>\n",
       "    <tr style=\"text-align: right;\">\n",
       "      <th></th>\n",
       "      <th>exits</th>\n",
       "    </tr>\n",
       "    <tr>\n",
       "      <th>datetime</th>\n",
       "      <th></th>\n",
       "    </tr>\n",
       "  </thead>\n",
       "  <tbody>\n",
       "    <tr>\n",
       "      <th>2022-02-01 09:00:00</th>\n",
       "      <td>8</td>\n",
       "    </tr>\n",
       "    <tr>\n",
       "      <th>2022-02-01 10:00:00</th>\n",
       "      <td>12</td>\n",
       "    </tr>\n",
       "    <tr>\n",
       "      <th>2022-02-01 11:00:00</th>\n",
       "      <td>4</td>\n",
       "    </tr>\n",
       "    <tr>\n",
       "      <th>2022-02-01 12:00:00</th>\n",
       "      <td>3</td>\n",
       "    </tr>\n",
       "    <tr>\n",
       "      <th>2022-02-01 13:00:00</th>\n",
       "      <td>2</td>\n",
       "    </tr>\n",
       "  </tbody>\n",
       "</table>\n",
       "</div>\n",
       "      <button class=\"colab-df-convert\" onclick=\"convertToInteractive('df-d4e3e700-1dd7-4401-adde-2c24f9001f33')\"\n",
       "              title=\"Convert this dataframe to an interactive table.\"\n",
       "              style=\"display:none;\">\n",
       "        \n",
       "  <svg xmlns=\"http://www.w3.org/2000/svg\" height=\"24px\"viewBox=\"0 0 24 24\"\n",
       "       width=\"24px\">\n",
       "    <path d=\"M0 0h24v24H0V0z\" fill=\"none\"/>\n",
       "    <path d=\"M18.56 5.44l.94 2.06.94-2.06 2.06-.94-2.06-.94-.94-2.06-.94 2.06-2.06.94zm-11 1L8.5 8.5l.94-2.06 2.06-.94-2.06-.94L8.5 2.5l-.94 2.06-2.06.94zm10 10l.94 2.06.94-2.06 2.06-.94-2.06-.94-.94-2.06-.94 2.06-2.06.94z\"/><path d=\"M17.41 7.96l-1.37-1.37c-.4-.4-.92-.59-1.43-.59-.52 0-1.04.2-1.43.59L10.3 9.45l-7.72 7.72c-.78.78-.78 2.05 0 2.83L4 21.41c.39.39.9.59 1.41.59.51 0 1.02-.2 1.41-.59l7.78-7.78 2.81-2.81c.8-.78.8-2.07 0-2.86zM5.41 20L4 18.59l7.72-7.72 1.47 1.35L5.41 20z\"/>\n",
       "  </svg>\n",
       "      </button>\n",
       "      \n",
       "  <style>\n",
       "    .colab-df-container {\n",
       "      display:flex;\n",
       "      flex-wrap:wrap;\n",
       "      gap: 12px;\n",
       "    }\n",
       "\n",
       "    .colab-df-convert {\n",
       "      background-color: #E8F0FE;\n",
       "      border: none;\n",
       "      border-radius: 50%;\n",
       "      cursor: pointer;\n",
       "      display: none;\n",
       "      fill: #1967D2;\n",
       "      height: 32px;\n",
       "      padding: 0 0 0 0;\n",
       "      width: 32px;\n",
       "    }\n",
       "\n",
       "    .colab-df-convert:hover {\n",
       "      background-color: #E2EBFA;\n",
       "      box-shadow: 0px 1px 2px rgba(60, 64, 67, 0.3), 0px 1px 3px 1px rgba(60, 64, 67, 0.15);\n",
       "      fill: #174EA6;\n",
       "    }\n",
       "\n",
       "    [theme=dark] .colab-df-convert {\n",
       "      background-color: #3B4455;\n",
       "      fill: #D2E3FC;\n",
       "    }\n",
       "\n",
       "    [theme=dark] .colab-df-convert:hover {\n",
       "      background-color: #434B5C;\n",
       "      box-shadow: 0px 1px 3px 1px rgba(0, 0, 0, 0.15);\n",
       "      filter: drop-shadow(0px 1px 2px rgba(0, 0, 0, 0.3));\n",
       "      fill: #FFFFFF;\n",
       "    }\n",
       "  </style>\n",
       "\n",
       "      <script>\n",
       "        const buttonEl =\n",
       "          document.querySelector('#df-d4e3e700-1dd7-4401-adde-2c24f9001f33 button.colab-df-convert');\n",
       "        buttonEl.style.display =\n",
       "          google.colab.kernel.accessAllowed ? 'block' : 'none';\n",
       "\n",
       "        async function convertToInteractive(key) {\n",
       "          const element = document.querySelector('#df-d4e3e700-1dd7-4401-adde-2c24f9001f33');\n",
       "          const dataTable =\n",
       "            await google.colab.kernel.invokeFunction('convertToInteractive',\n",
       "                                                     [key], {});\n",
       "          if (!dataTable) return;\n",
       "\n",
       "          const docLinkHtml = 'Like what you see? Visit the ' +\n",
       "            '<a target=\"_blank\" href=https://colab.research.google.com/notebooks/data_table.ipynb>data table notebook</a>'\n",
       "            + ' to learn more about interactive tables.';\n",
       "          element.innerHTML = '';\n",
       "          dataTable['output_type'] = 'display_data';\n",
       "          await google.colab.output.renderOutput(dataTable, element);\n",
       "          const docLink = document.createElement('div');\n",
       "          docLink.innerHTML = docLinkHtml;\n",
       "          element.appendChild(docLink);\n",
       "        }\n",
       "      </script>\n",
       "    </div>\n",
       "  </div>\n",
       "  "
      ],
      "text/plain": [
       "                     exits\n",
       "datetime                  \n",
       "2022-02-01 09:00:00      8\n",
       "2022-02-01 10:00:00     12\n",
       "2022-02-01 11:00:00      4\n",
       "2022-02-01 12:00:00      3\n",
       "2022-02-01 13:00:00      2"
      ]
     },
     "execution_count": 100,
     "metadata": {},
     "output_type": "execute_result"
    }
   ],
   "source": [
    "df_ts_exits.head(5)"
   ]
  },
  {
   "cell_type": "markdown",
   "metadata": {
    "id": "We22gKniZe_r"
   },
   "source": [
    "#### Intersecting the Entry dataframe and the exits dataframe to have common time period. Having common time period means we can subtract the entry and exit to get approximate estimation of the crowd present in that given time slot."
   ]
  },
  {
   "cell_type": "code",
   "execution_count": null,
   "metadata": {
    "id": "8FdVpo2sc96T"
   },
   "outputs": [],
   "source": [
    "intersecting_idx = df_ts_exits.index.intersection(df_ts.index)"
   ]
  },
  {
   "cell_type": "code",
   "execution_count": null,
   "metadata": {
    "id": "YjZlBH6K3Ep3"
   },
   "outputs": [],
   "source": [
    "df_ts = df_ts.loc[intersecting_idx]"
   ]
  },
  {
   "cell_type": "code",
   "execution_count": null,
   "metadata": {
    "colab": {
     "base_uri": "https://localhost:8080/",
     "height": 238
    },
    "id": "8_ui5q2M78JB",
    "outputId": "8469aa17-a189-4fb3-bb3f-264654b84c45"
   },
   "outputs": [
    {
     "data": {
      "text/html": [
       "\n",
       "  <div id=\"df-7987f7e9-64fb-4bbd-99a6-b8a00c0436f7\">\n",
       "    <div class=\"colab-df-container\">\n",
       "      <div>\n",
       "<style scoped>\n",
       "    .dataframe tbody tr th:only-of-type {\n",
       "        vertical-align: middle;\n",
       "    }\n",
       "\n",
       "    .dataframe tbody tr th {\n",
       "        vertical-align: top;\n",
       "    }\n",
       "\n",
       "    .dataframe thead th {\n",
       "        text-align: right;\n",
       "    }\n",
       "</style>\n",
       "<table border=\"1\" class=\"dataframe\">\n",
       "  <thead>\n",
       "    <tr style=\"text-align: right;\">\n",
       "      <th></th>\n",
       "      <th>Total</th>\n",
       "    </tr>\n",
       "    <tr>\n",
       "      <th>datetime</th>\n",
       "      <th></th>\n",
       "    </tr>\n",
       "  </thead>\n",
       "  <tbody>\n",
       "    <tr>\n",
       "      <th>2022-03-01 09:00:00</th>\n",
       "      <td>21</td>\n",
       "    </tr>\n",
       "    <tr>\n",
       "      <th>2022-03-01 10:00:00</th>\n",
       "      <td>0</td>\n",
       "    </tr>\n",
       "    <tr>\n",
       "      <th>2022-03-01 11:00:00</th>\n",
       "      <td>6</td>\n",
       "    </tr>\n",
       "    <tr>\n",
       "      <th>2022-03-01 12:00:00</th>\n",
       "      <td>0</td>\n",
       "    </tr>\n",
       "    <tr>\n",
       "      <th>2022-03-01 13:00:00</th>\n",
       "      <td>1</td>\n",
       "    </tr>\n",
       "  </tbody>\n",
       "</table>\n",
       "</div>\n",
       "      <button class=\"colab-df-convert\" onclick=\"convertToInteractive('df-7987f7e9-64fb-4bbd-99a6-b8a00c0436f7')\"\n",
       "              title=\"Convert this dataframe to an interactive table.\"\n",
       "              style=\"display:none;\">\n",
       "        \n",
       "  <svg xmlns=\"http://www.w3.org/2000/svg\" height=\"24px\"viewBox=\"0 0 24 24\"\n",
       "       width=\"24px\">\n",
       "    <path d=\"M0 0h24v24H0V0z\" fill=\"none\"/>\n",
       "    <path d=\"M18.56 5.44l.94 2.06.94-2.06 2.06-.94-2.06-.94-.94-2.06-.94 2.06-2.06.94zm-11 1L8.5 8.5l.94-2.06 2.06-.94-2.06-.94L8.5 2.5l-.94 2.06-2.06.94zm10 10l.94 2.06.94-2.06 2.06-.94-2.06-.94-.94-2.06-.94 2.06-2.06.94z\"/><path d=\"M17.41 7.96l-1.37-1.37c-.4-.4-.92-.59-1.43-.59-.52 0-1.04.2-1.43.59L10.3 9.45l-7.72 7.72c-.78.78-.78 2.05 0 2.83L4 21.41c.39.39.9.59 1.41.59.51 0 1.02-.2 1.41-.59l7.78-7.78 2.81-2.81c.8-.78.8-2.07 0-2.86zM5.41 20L4 18.59l7.72-7.72 1.47 1.35L5.41 20z\"/>\n",
       "  </svg>\n",
       "      </button>\n",
       "      \n",
       "  <style>\n",
       "    .colab-df-container {\n",
       "      display:flex;\n",
       "      flex-wrap:wrap;\n",
       "      gap: 12px;\n",
       "    }\n",
       "\n",
       "    .colab-df-convert {\n",
       "      background-color: #E8F0FE;\n",
       "      border: none;\n",
       "      border-radius: 50%;\n",
       "      cursor: pointer;\n",
       "      display: none;\n",
       "      fill: #1967D2;\n",
       "      height: 32px;\n",
       "      padding: 0 0 0 0;\n",
       "      width: 32px;\n",
       "    }\n",
       "\n",
       "    .colab-df-convert:hover {\n",
       "      background-color: #E2EBFA;\n",
       "      box-shadow: 0px 1px 2px rgba(60, 64, 67, 0.3), 0px 1px 3px 1px rgba(60, 64, 67, 0.15);\n",
       "      fill: #174EA6;\n",
       "    }\n",
       "\n",
       "    [theme=dark] .colab-df-convert {\n",
       "      background-color: #3B4455;\n",
       "      fill: #D2E3FC;\n",
       "    }\n",
       "\n",
       "    [theme=dark] .colab-df-convert:hover {\n",
       "      background-color: #434B5C;\n",
       "      box-shadow: 0px 1px 3px 1px rgba(0, 0, 0, 0.15);\n",
       "      filter: drop-shadow(0px 1px 2px rgba(0, 0, 0, 0.3));\n",
       "      fill: #FFFFFF;\n",
       "    }\n",
       "  </style>\n",
       "\n",
       "      <script>\n",
       "        const buttonEl =\n",
       "          document.querySelector('#df-7987f7e9-64fb-4bbd-99a6-b8a00c0436f7 button.colab-df-convert');\n",
       "        buttonEl.style.display =\n",
       "          google.colab.kernel.accessAllowed ? 'block' : 'none';\n",
       "\n",
       "        async function convertToInteractive(key) {\n",
       "          const element = document.querySelector('#df-7987f7e9-64fb-4bbd-99a6-b8a00c0436f7');\n",
       "          const dataTable =\n",
       "            await google.colab.kernel.invokeFunction('convertToInteractive',\n",
       "                                                     [key], {});\n",
       "          if (!dataTable) return;\n",
       "\n",
       "          const docLinkHtml = 'Like what you see? Visit the ' +\n",
       "            '<a target=\"_blank\" href=https://colab.research.google.com/notebooks/data_table.ipynb>data table notebook</a>'\n",
       "            + ' to learn more about interactive tables.';\n",
       "          element.innerHTML = '';\n",
       "          dataTable['output_type'] = 'display_data';\n",
       "          await google.colab.output.renderOutput(dataTable, element);\n",
       "          const docLink = document.createElement('div');\n",
       "          docLink.innerHTML = docLinkHtml;\n",
       "          element.appendChild(docLink);\n",
       "        }\n",
       "      </script>\n",
       "    </div>\n",
       "  </div>\n",
       "  "
      ],
      "text/plain": [
       "                     Total\n",
       "datetime                  \n",
       "2022-03-01 09:00:00     21\n",
       "2022-03-01 10:00:00      0\n",
       "2022-03-01 11:00:00      6\n",
       "2022-03-01 12:00:00      0\n",
       "2022-03-01 13:00:00      1"
      ]
     },
     "execution_count": 103,
     "metadata": {},
     "output_type": "execute_result"
    }
   ],
   "source": [
    "df_ts.head(5)"
   ]
  },
  {
   "cell_type": "code",
   "execution_count": null,
   "metadata": {
    "id": "7gXqgkKZ5YLY"
   },
   "outputs": [],
   "source": [
    "df_ts_exits = df_ts_exits.loc[intersecting_idx]"
   ]
  },
  {
   "cell_type": "code",
   "execution_count": null,
   "metadata": {
    "colab": {
     "base_uri": "https://localhost:8080/",
     "height": 238
    },
    "id": "jcM_Wo3876FC",
    "outputId": "b315abbb-7279-41d0-a13e-8a8fa7fa76cb"
   },
   "outputs": [
    {
     "data": {
      "text/html": [
       "\n",
       "  <div id=\"df-e7223473-9084-42a5-8a5f-c1901471b9c6\">\n",
       "    <div class=\"colab-df-container\">\n",
       "      <div>\n",
       "<style scoped>\n",
       "    .dataframe tbody tr th:only-of-type {\n",
       "        vertical-align: middle;\n",
       "    }\n",
       "\n",
       "    .dataframe tbody tr th {\n",
       "        vertical-align: top;\n",
       "    }\n",
       "\n",
       "    .dataframe thead th {\n",
       "        text-align: right;\n",
       "    }\n",
       "</style>\n",
       "<table border=\"1\" class=\"dataframe\">\n",
       "  <thead>\n",
       "    <tr style=\"text-align: right;\">\n",
       "      <th></th>\n",
       "      <th>exits</th>\n",
       "    </tr>\n",
       "    <tr>\n",
       "      <th>datetime</th>\n",
       "      <th></th>\n",
       "    </tr>\n",
       "  </thead>\n",
       "  <tbody>\n",
       "    <tr>\n",
       "      <th>2022-03-01 09:00:00</th>\n",
       "      <td>9</td>\n",
       "    </tr>\n",
       "    <tr>\n",
       "      <th>2022-03-01 10:00:00</th>\n",
       "      <td>12</td>\n",
       "    </tr>\n",
       "    <tr>\n",
       "      <th>2022-03-01 11:00:00</th>\n",
       "      <td>1</td>\n",
       "    </tr>\n",
       "    <tr>\n",
       "      <th>2022-03-01 12:00:00</th>\n",
       "      <td>0</td>\n",
       "    </tr>\n",
       "    <tr>\n",
       "      <th>2022-03-01 13:00:00</th>\n",
       "      <td>6</td>\n",
       "    </tr>\n",
       "  </tbody>\n",
       "</table>\n",
       "</div>\n",
       "      <button class=\"colab-df-convert\" onclick=\"convertToInteractive('df-e7223473-9084-42a5-8a5f-c1901471b9c6')\"\n",
       "              title=\"Convert this dataframe to an interactive table.\"\n",
       "              style=\"display:none;\">\n",
       "        \n",
       "  <svg xmlns=\"http://www.w3.org/2000/svg\" height=\"24px\"viewBox=\"0 0 24 24\"\n",
       "       width=\"24px\">\n",
       "    <path d=\"M0 0h24v24H0V0z\" fill=\"none\"/>\n",
       "    <path d=\"M18.56 5.44l.94 2.06.94-2.06 2.06-.94-2.06-.94-.94-2.06-.94 2.06-2.06.94zm-11 1L8.5 8.5l.94-2.06 2.06-.94-2.06-.94L8.5 2.5l-.94 2.06-2.06.94zm10 10l.94 2.06.94-2.06 2.06-.94-2.06-.94-.94-2.06-.94 2.06-2.06.94z\"/><path d=\"M17.41 7.96l-1.37-1.37c-.4-.4-.92-.59-1.43-.59-.52 0-1.04.2-1.43.59L10.3 9.45l-7.72 7.72c-.78.78-.78 2.05 0 2.83L4 21.41c.39.39.9.59 1.41.59.51 0 1.02-.2 1.41-.59l7.78-7.78 2.81-2.81c.8-.78.8-2.07 0-2.86zM5.41 20L4 18.59l7.72-7.72 1.47 1.35L5.41 20z\"/>\n",
       "  </svg>\n",
       "      </button>\n",
       "      \n",
       "  <style>\n",
       "    .colab-df-container {\n",
       "      display:flex;\n",
       "      flex-wrap:wrap;\n",
       "      gap: 12px;\n",
       "    }\n",
       "\n",
       "    .colab-df-convert {\n",
       "      background-color: #E8F0FE;\n",
       "      border: none;\n",
       "      border-radius: 50%;\n",
       "      cursor: pointer;\n",
       "      display: none;\n",
       "      fill: #1967D2;\n",
       "      height: 32px;\n",
       "      padding: 0 0 0 0;\n",
       "      width: 32px;\n",
       "    }\n",
       "\n",
       "    .colab-df-convert:hover {\n",
       "      background-color: #E2EBFA;\n",
       "      box-shadow: 0px 1px 2px rgba(60, 64, 67, 0.3), 0px 1px 3px 1px rgba(60, 64, 67, 0.15);\n",
       "      fill: #174EA6;\n",
       "    }\n",
       "\n",
       "    [theme=dark] .colab-df-convert {\n",
       "      background-color: #3B4455;\n",
       "      fill: #D2E3FC;\n",
       "    }\n",
       "\n",
       "    [theme=dark] .colab-df-convert:hover {\n",
       "      background-color: #434B5C;\n",
       "      box-shadow: 0px 1px 3px 1px rgba(0, 0, 0, 0.15);\n",
       "      filter: drop-shadow(0px 1px 2px rgba(0, 0, 0, 0.3));\n",
       "      fill: #FFFFFF;\n",
       "    }\n",
       "  </style>\n",
       "\n",
       "      <script>\n",
       "        const buttonEl =\n",
       "          document.querySelector('#df-e7223473-9084-42a5-8a5f-c1901471b9c6 button.colab-df-convert');\n",
       "        buttonEl.style.display =\n",
       "          google.colab.kernel.accessAllowed ? 'block' : 'none';\n",
       "\n",
       "        async function convertToInteractive(key) {\n",
       "          const element = document.querySelector('#df-e7223473-9084-42a5-8a5f-c1901471b9c6');\n",
       "          const dataTable =\n",
       "            await google.colab.kernel.invokeFunction('convertToInteractive',\n",
       "                                                     [key], {});\n",
       "          if (!dataTable) return;\n",
       "\n",
       "          const docLinkHtml = 'Like what you see? Visit the ' +\n",
       "            '<a target=\"_blank\" href=https://colab.research.google.com/notebooks/data_table.ipynb>data table notebook</a>'\n",
       "            + ' to learn more about interactive tables.';\n",
       "          element.innerHTML = '';\n",
       "          dataTable['output_type'] = 'display_data';\n",
       "          await google.colab.output.renderOutput(dataTable, element);\n",
       "          const docLink = document.createElement('div');\n",
       "          docLink.innerHTML = docLinkHtml;\n",
       "          element.appendChild(docLink);\n",
       "        }\n",
       "      </script>\n",
       "    </div>\n",
       "  </div>\n",
       "  "
      ],
      "text/plain": [
       "                     exits\n",
       "datetime                  \n",
       "2022-03-01 09:00:00      9\n",
       "2022-03-01 10:00:00     12\n",
       "2022-03-01 11:00:00      1\n",
       "2022-03-01 12:00:00      0\n",
       "2022-03-01 13:00:00      6"
      ]
     },
     "execution_count": 105,
     "metadata": {},
     "output_type": "execute_result"
    }
   ],
   "source": [
    "df_ts_exits.head(5)"
   ]
  },
  {
   "cell_type": "markdown",
   "metadata": {
    "id": "L7sZjR-cILns"
   },
   "source": [
    "### Get present crowd value from entry and exit data series for each time slot."
   ]
  },
  {
   "cell_type": "code",
   "execution_count": null,
   "metadata": {
    "id": "uikOY4ur5iMo"
   },
   "outputs": [],
   "source": [
    "df_ts = df_ts['Total'].subtract(df_ts_exits['exits'])"
   ]
  },
  {
   "cell_type": "code",
   "execution_count": null,
   "metadata": {
    "colab": {
     "base_uri": "https://localhost:8080/"
    },
    "id": "bPJsATWf56eQ",
    "outputId": "0b15c17d-ed6b-4df4-eb52-833a0db87d28"
   },
   "outputs": [
    {
     "data": {
      "text/plain": [
       "datetime\n",
       "2022-03-01 09:00:00    12\n",
       "2022-03-01 10:00:00   -12\n",
       "2022-03-01 11:00:00     5\n",
       "2022-03-01 12:00:00     0\n",
       "2022-03-01 13:00:00    -5\n",
       "dtype: int64"
      ]
     },
     "execution_count": 107,
     "metadata": {},
     "output_type": "execute_result"
    }
   ],
   "source": [
    "df_ts.head(5)"
   ]
  },
  {
   "cell_type": "code",
   "execution_count": null,
   "metadata": {
    "id": "cbLG3m2HEFaQ"
   },
   "outputs": [],
   "source": [
    "df_ts[df_ts < 0] = 0"
   ]
  },
  {
   "cell_type": "code",
   "execution_count": null,
   "metadata": {
    "colab": {
     "base_uri": "https://localhost:8080/"
    },
    "id": "M17jNiW6zL2k",
    "outputId": "74ead4ed-8ef8-42b2-fdcf-0e027066df45"
   },
   "outputs": [
    {
     "data": {
      "text/plain": [
       "datetime\n",
       "2022-03-01 09:00:00    12\n",
       "2022-03-01 10:00:00     0\n",
       "2022-03-01 11:00:00     5\n",
       "2022-03-01 12:00:00     0\n",
       "2022-03-01 13:00:00     0\n",
       "dtype: int64"
      ]
     },
     "execution_count": 109,
     "metadata": {},
     "output_type": "execute_result"
    }
   ],
   "source": [
    "df_ts.head(5)"
   ]
  },
  {
   "cell_type": "markdown",
   "metadata": {
    "id": "tzaQpupXz3q-"
   },
   "source": [
    "## Time series modeling"
   ]
  },
  {
   "cell_type": "markdown",
   "metadata": {
    "id": "wS7ga4G2KvMa"
   },
   "source": [
    "#### **Visualization of the time series data**"
   ]
  },
  {
   "cell_type": "code",
   "execution_count": null,
   "metadata": {
    "colab": {
     "base_uri": "https://localhost:8080/",
     "height": 481
    },
    "id": "kKMUylKBxh8e",
    "outputId": "bacf1730-dc8c-47a6-f9d3-d6e087d0dce1"
   },
   "outputs": [
    {
     "data": {
      "text/plain": [
       "Text(0, 0.5, 'Crowd count -->')"
      ]
     },
     "execution_count": 110,
     "metadata": {},
     "output_type": "execute_result"
    },
    {
     "data": {
      "image/png": "[encoded data removed]",
      "text/plain": [
       "<Figure size 1440x504 with 1 Axes>"
      ]
     },
     "metadata": {
      "needs_background": "light"
     },
     "output_type": "display_data"
    }
   ],
   "source": [
    "df_ts.plot(figsize=(20,7))\n",
    "plt.xlabel('Time -->')\n",
    "plt.ylabel('Crowd count -->')"
   ]
  },
  {
   "cell_type": "markdown",
   "metadata": {
    "id": "yFtB2-2jaykB"
   },
   "source": [
    "Adfuller stats to check for stationarity."
   ]
  },
  {
   "cell_type": "code",
   "execution_count": null,
   "metadata": {
    "colab": {
     "base_uri": "https://localhost:8080/"
    },
    "id": "M4id3WsOD84A",
    "outputId": "627832ac-3818-4411-9e1b-6edd1ade64df"
   },
   "outputs": [
    {
     "name": "stdout",
     "output_type": "stream",
     "text": [
      "ADF Statistic: -7.821819082622866\n",
      "p-value: 6.639013340429399e-12\n",
      "Critial Values:\n",
      "  1%: -3.45050711373316\n",
      "  5%: -2.8704195794076743\n",
      "  10%: -2.571500856923753\n"
     ]
    }
   ],
   "source": [
    "result = adfuller(df_ts.values,autolag='AIC')\n",
    "print(f'ADF Statistic: {result[0]}')\n",
    "print(f'p-value: {result[1]}')\n",
    "print('Critial Values:')\n",
    "for key, value in result[4].items():\n",
    "    print(f'  {key}: {value}')"
   ]
  },
  {
   "cell_type": "markdown",
   "metadata": {
    "id": "TzBGyjAKgogR"
   },
   "source": [
    "- p-value must be less than 0.05 and ADF statistic must be less than the critical values to conform stationarity."
   ]
  },
  {
   "cell_type": "markdown",
   "metadata": {
    "id": "-2F9_fJyfPBL"
   },
   "source": [
    "- Stationarity means that the statistical properties of a time series do not change over time. Stationarity is important because many useful analytical tools and statistical tests and models rely on it."
   ]
  },
  {
   "cell_type": "markdown",
   "metadata": {
    "id": "dUz19jyVhaXO"
   },
   "source": [
    "### **Choosing the trend and seasonal elements (p,d,q)x(P,D,Q)s.**"
   ]
  },
  {
   "cell_type": "markdown",
   "metadata": {
    "id": "iKZnAZAwcCka"
   },
   "source": [
    "The autocorrelation function (ACF) is a statistical technique that we can use to identify how correlated the values in a time series are with each other. Thus, autocorrelation is the correlation between a time series (signal) and a delayed version of itself."
   ]
  },
  {
   "cell_type": "code",
   "execution_count": null,
   "metadata": {
    "colab": {
     "base_uri": "https://localhost:8080/",
     "height": 281
    },
    "id": "Zi4KEeP1CoxG",
    "outputId": "0b99b729-8de2-421e-984f-b3a0c6c4f83f"
   },
   "outputs": [
    {
     "data": {
      "image/png": "[encoded data removed]",
      "text/plain": [
       "<Figure size 432x288 with 1 Axes>"
      ]
     },
     "metadata": {
      "needs_background": "light"
     },
     "output_type": "display_data"
    }
   ],
   "source": [
    "plot_acf(df_ts)\n",
    "plt.show()"
   ]
  },
  {
   "cell_type": "markdown",
   "metadata": {
    "id": "OShBZAhNd2Pu"
   },
   "source": [
    "The decaying values suggest an AR model is relevant for this data."
   ]
  },
  {
   "cell_type": "markdown",
   "metadata": {
    "id": "GF98C8tEb8BK"
   },
   "source": [
    "Partial autocorrelation is a statistical measure that captures the correlation between two variables after controlling for the effects of other variables."
   ]
  },
  {
   "cell_type": "code",
   "execution_count": null,
   "metadata": {
    "colab": {
     "base_uri": "https://localhost:8080/",
     "height": 281
    },
    "id": "SCaJr3p_Cqz1",
    "outputId": "cbd04638-1f81-4ef9-9e78-ab8d78364b32"
   },
   "outputs": [
    {
     "data": {
      "image/png": "[encoded data removed]",
      "text/plain": [
       "<Figure size 432x288 with 1 Axes>"
      ]
     },
     "metadata": {
      "needs_background": "light"
     },
     "output_type": "display_data"
    }
   ],
   "source": [
    "plot_pacf(df_ts)\n",
    "plt.show()"
   ]
  },
  {
   "cell_type": "markdown",
   "metadata": {
    "id": "8kOp5VsFa7ai"
   },
   "source": [
    "We can observe that we have a ar=1(from the significant spikes in PACF plot) and ma=1(from the significant spikes in ACF plot) as more significant thus we can use them in our model here. The periodicity can be set to 24 time periods i.e 24hrs. "
   ]
  },
  {
   "cell_type": "markdown",
   "metadata": {
    "id": "lsvQR61hjqI8"
   },
   "source": [
    "### **GridSearch to find the best values automatically based on AIC Score**"
   ]
  },
  {
   "cell_type": "code",
   "execution_count": null,
   "metadata": {
    "id": "aVTVfVwwmWWW"
   },
   "outputs": [],
   "source": [
    "# code found from here: https://www.bounteous.com/insights/2020/09/15/forecasting-time-series-model-using-python-part-two/\n",
    "\n",
    "import itertools\n",
    "import warnings\n",
    "warnings.filterwarnings(\"ignore\")\n",
    "\n",
    "def sarima_grid_search(y,seasonal_period):\n",
    "  p = d = q = range(0, 2)\n",
    "  pdq = list(itertools.product(p, d, q))\n",
    "  seasonal_pdq = [(x[0], x[1], x[2],seasonal_period) for x in list(itertools.product(p, d, q))]\n",
    "\n",
    "  mini = float('+inf')\n",
    "  \n",
    "  for param in pdq:\n",
    "    for param_seasonal in seasonal_pdq:\n",
    "    #param_seasonal = (param[0], param[1], param[2],seasonal_period)\n",
    "      try:\n",
    "        mod = sm.tsa.statespace.SARIMAX(y,order=param,seasonal_order=param_seasonal,enforce_stationarity=False,enforce_invertibility=False)\n",
    "        results = mod.fit()\n",
    "        if results.aic < mini:\n",
    "          mini = results.aic\n",
    "          param_mini = param\n",
    "          param_seasonal_mini = param_seasonal\n",
    "          print('SARIMA{}x{} - AIC:{}'.format(param, param_seasonal, results.aic))\n",
    "      except:\n",
    "        continue\n",
    "  print('The set of parameters with the minimum AIC is: SARIMA{}x{} - AIC:{}'.format(param_mini, param_seasonal_mini, mini))\n",
    "  return param_mini, param_seasonal_mini"
   ]
  },
  {
   "cell_type": "markdown",
   "metadata": {
    "id": "2Pswkbik0FiA"
   },
   "source": [
    "## **Baseline SARIMA Model**"
   ]
  },
  {
   "cell_type": "markdown",
   "metadata": {
    "id": "2HCaB1ElRNwY"
   },
   "source": [
    "**Why SARIMA?**\n",
    "\n",
    "SARIMA is about the seasonality of the dataset. If the data is seasonal, like it will happen after a certain period of time, we need to use SARIMA."
   ]
  },
  {
   "cell_type": "code",
   "execution_count": null,
   "metadata": {
    "colab": {
     "base_uri": "https://localhost:8080/"
    },
    "id": "GI9NBhdanW1Z",
    "outputId": "175f1dab-2622-4ef6-8f21-0b7d92442b3d"
   },
   "outputs": [
    {
     "name": "stdout",
     "output_type": "stream",
     "text": [
      "SARIMA(0, 0, 0)x(0, 0, 0, 24) - AIC:2534.952571070025\n",
      "SARIMA(0, 0, 0)x(0, 0, 1, 24) - AIC:2331.4760678131242\n",
      "SARIMA(0, 0, 0)x(0, 1, 1, 24) - AIC:2037.384313471145\n",
      "SARIMA(0, 0, 1)x(0, 1, 1, 24) - AIC:2031.0146566354244\n",
      "SARIMA(1, 0, 1)x(0, 1, 1, 24) - AIC:2029.9514961417738\n",
      "The set of parameters with the minimum AIC is: SARIMA(1, 0, 1)x(0, 1, 1, 24) - AIC:2029.9514961417738\n"
     ]
    }
   ],
   "source": [
    "order, seasonal_order = sarima_grid_search(df_ts,24)"
   ]
  },
  {
   "cell_type": "code",
   "execution_count": null,
   "metadata": {
    "id": "JvSawfmXxh8e"
   },
   "outputs": [],
   "source": [
    "model = sm.tsa.statespace.SARIMAX(endog=df_ts, order=order, seasonal_order=seasonal_order, freq='H')"
   ]
  },
  {
   "cell_type": "code",
   "execution_count": null,
   "metadata": {
    "colab": {
     "base_uri": "https://localhost:8080/"
    },
    "id": "isB_zd_uxh8f",
    "outputId": "7869d373-94ab-44f1-88ba-bdead8195771"
   },
   "outputs": [
    {
     "name": "stdout",
     "output_type": "stream",
     "text": [
      "                                 Statespace Model Results                                 \n",
      "==========================================================================================\n",
      "Dep. Variable:                                  y   No. Observations:                  344\n",
      "Model:             SARIMAX(1, 0, 1)x(0, 1, 1, 24)   Log Likelihood               -1111.356\n",
      "Date:                            Tue, 29 Mar 2022   AIC                           2230.712\n",
      "Time:                                    17:50:43   BIC                           2245.785\n",
      "Sample:                                03-01-2022   HQIC                          2236.731\n",
      "                                     - 03-15-2022                                         \n",
      "Covariance Type:                              opg                                         \n",
      "==============================================================================\n",
      "                 coef    std err          z      P>|z|      [0.025      0.975]\n",
      "------------------------------------------------------------------------------\n",
      "ar.L1          0.6795      0.327      2.081      0.037       0.039       1.319\n",
      "ma.L1         -0.5943      0.359     -1.656      0.098      -1.298       0.109\n",
      "ma.S.L24      -0.9993      8.678     -0.115      0.908     -18.008      16.010\n",
      "sigma2        49.8502    431.715      0.115      0.908    -796.296     895.997\n",
      "===================================================================================\n",
      "Ljung-Box (Q):                       24.78   Jarque-Bera (JB):               945.93\n",
      "Prob(Q):                              0.97   Prob(JB):                         0.00\n",
      "Heteroskedasticity (H):               0.94   Skew:                             1.94\n",
      "Prob(H) (two-sided):                  0.75   Kurtosis:                        10.47\n",
      "===================================================================================\n",
      "\n",
      "Warnings:\n",
      "[1] Covariance matrix calculated using the outer product of gradients (complex-step).\n"
     ]
    }
   ],
   "source": [
    "history = model.fit()\n",
    "print(history.summary())"
   ]
  },
  {
   "cell_type": "markdown",
   "metadata": {
    "id": "9KcwizyX75Gy"
   },
   "source": [
    "**The Akaike information criterion (AIC) is an estimator of prediction error and thereby relative quality of statistical models for a given set of data.**"
   ]
  },
  {
   "cell_type": "markdown",
   "metadata": {
    "id": "q6o3Fq9qu7x9"
   },
   "source": [
    "- AIC penalizes a model with too many parameters. **The smaller the AIC score, the better fit the model will be to the data**. This criterion tends to select a model that slightly over fits the data."
   ]
  },
  {
   "cell_type": "markdown",
   "metadata": {
    "id": "MYZuPsdUvWUh"
   },
   "source": [
    "P-value tells you the odds that a result occured might be of random chance. All P-values must be < 0.05 for us to consider the coefficient it highly significant."
   ]
  },
  {
   "cell_type": "markdown",
   "metadata": {
    "id": "jA_8uLSjLKOx"
   },
   "source": [
    "## **Out of sample prediction**"
   ]
  },
  {
   "cell_type": "code",
   "execution_count": null,
   "metadata": {
    "colab": {
     "base_uri": "https://localhost:8080/",
     "height": 489
    },
    "id": "qRIDBh1eLJ6a",
    "outputId": "25959a5d-fdd1-4e4f-8b66-23af7a10fc00"
   },
   "outputs": [
    {
     "data": {
      "image/png": "[encoded data removed]",
      "text/plain": [
       "<Figure size 1500x500 with 1 Axes>"
      ]
     },
     "metadata": {
      "needs_background": "light"
     },
     "output_type": "display_data"
    }
   ],
   "source": [
    "fc = history.predict(start = df_ts.index[-1], end = df_ts.index[-1]+timedelta(hours=48))\n",
    "plt.figure(figsize=(15,5), dpi=100)\n",
    "plt.plot(df_ts, label='training')\n",
    "plt.plot(fc, label='forecast')\n",
    "plt.xlabel('Time -->')\n",
    "plt.ylabel('Crowd count -->')\n",
    "plt.title('Forecast vs Actuals',fontsize=22)\n",
    "plt.legend(loc='upper right', fontsize=17)\n",
    "plt.show()"
   ]
  },
  {
   "cell_type": "markdown",
   "metadata": {
    "id": "2zIGiXuKX1ck"
   },
   "source": [
    "## **Forecasting for the training data** "
   ]
  },
  {
   "cell_type": "code",
   "execution_count": null,
   "metadata": {
    "colab": {
     "base_uri": "https://localhost:8080/",
     "height": 489
    },
    "id": "hpYQqge-xh8f",
    "outputId": "2d37ec15-18c3-4b9c-f7c6-fcf0024f5f9b"
   },
   "outputs": [
    {
     "data": {
      "image/png": "[encoded data removed]",
      "text/plain": [
       "<Figure size 1500x500 with 1 Axes>"
      ]
     },
     "metadata": {
      "needs_background": "light"
     },
     "output_type": "display_data"
    }
   ],
   "source": [
    "fc = history.predict(start = df_ts.index[0], end = df_ts.index[-1])\n",
    "plt.figure(figsize=(15,5), dpi=100)\n",
    "plt.plot(df_ts, label='training')\n",
    "plt.plot(fc, label='forecast')\n",
    "plt.xlabel('Time -->')\n",
    "plt.ylabel('Crowd count -->')\n",
    "plt.title('Forecast vs Actuals',fontsize=22)\n",
    "plt.legend(loc='upper right', fontsize=17)\n",
    "plt.show()"
   ]
  },
  {
   "cell_type": "markdown",
   "metadata": {
    "id": "bTnXfsMQwER3"
   },
   "source": [
    "Mean Absolute error value for SARIMA model ="
   ]
  },
  {
   "cell_type": "code",
   "execution_count": null,
   "metadata": {
    "colab": {
     "base_uri": "https://localhost:8080/"
    },
    "id": "p3TsQDRNur1a",
    "outputId": "2621078e-58a3-4d45-c01b-a28f83110382"
   },
   "outputs": [
    {
     "data": {
      "text/plain": [
       "3.5595499167095253"
      ]
     },
     "execution_count": 120,
     "metadata": {},
     "output_type": "execute_result"
    }
   ],
   "source": [
    "mean_absolute_error(df_ts,fc)"
   ]
  },
  {
   "cell_type": "markdown",
   "metadata": {
    "id": "eAOQ2Ipy5idA"
   },
   "source": [
    "## **Facebook Prophet Model**"
   ]
  },
  {
   "cell_type": "markdown",
   "metadata": {
    "id": "FJPUpHsgjs0p"
   },
   "source": [
    "**Why Facebook Prophet?**\n",
    "\n",
    "Facebook Prophet is known for being able to handle multiple seasonality better in our case hourly and weekly seasonality and considering holidays."
   ]
  },
  {
   "cell_type": "code",
   "execution_count": null,
   "metadata": {
    "id": "yQDAPmto5hx-"
   },
   "outputs": [],
   "source": [
    "from fbprophet import Prophet"
   ]
  },
  {
   "cell_type": "markdown",
   "metadata": {
    "id": "vVY8lRFmOJRx"
   },
   "source": [
    "Preparing the dataframe for fitting in prophet"
   ]
  },
  {
   "cell_type": "code",
   "execution_count": null,
   "metadata": {
    "id": "02I-og6H6CfQ"
   },
   "outputs": [],
   "source": [
    "df_prophet = df_ts.reset_index()\n",
    "df_prophet = df_prophet.rename(columns = {'datetime':'ds',0:'y'}).reset_index().drop(['index'],axis=1)"
   ]
  },
  {
   "cell_type": "code",
   "execution_count": null,
   "metadata": {
    "colab": {
     "base_uri": "https://localhost:8080/",
     "height": 206
    },
    "id": "ETLeysMJ6cK9",
    "outputId": "cdcd3071-8ef6-469a-a4c2-a69cbe046838"
   },
   "outputs": [
    {
     "data": {
      "text/html": [
       "\n",
       "  <div id=\"df-33f697a6-0de6-470a-9ff6-21668a08bfb4\">\n",
       "    <div class=\"colab-df-container\">\n",
       "      <div>\n",
       "<style scoped>\n",
       "    .dataframe tbody tr th:only-of-type {\n",
       "        vertical-align: middle;\n",
       "    }\n",
       "\n",
       "    .dataframe tbody tr th {\n",
       "        vertical-align: top;\n",
       "    }\n",
       "\n",
       "    .dataframe thead th {\n",
       "        text-align: right;\n",
       "    }\n",
       "</style>\n",
       "<table border=\"1\" class=\"dataframe\">\n",
       "  <thead>\n",
       "    <tr style=\"text-align: right;\">\n",
       "      <th></th>\n",
       "      <th>ds</th>\n",
       "      <th>y</th>\n",
       "    </tr>\n",
       "  </thead>\n",
       "  <tbody>\n",
       "    <tr>\n",
       "      <th>0</th>\n",
       "      <td>2022-03-01 09:00:00</td>\n",
       "      <td>12</td>\n",
       "    </tr>\n",
       "    <tr>\n",
       "      <th>1</th>\n",
       "      <td>2022-03-01 10:00:00</td>\n",
       "      <td>0</td>\n",
       "    </tr>\n",
       "    <tr>\n",
       "      <th>2</th>\n",
       "      <td>2022-03-01 11:00:00</td>\n",
       "      <td>5</td>\n",
       "    </tr>\n",
       "    <tr>\n",
       "      <th>3</th>\n",
       "      <td>2022-03-01 12:00:00</td>\n",
       "      <td>0</td>\n",
       "    </tr>\n",
       "    <tr>\n",
       "      <th>4</th>\n",
       "      <td>2022-03-01 13:00:00</td>\n",
       "      <td>0</td>\n",
       "    </tr>\n",
       "  </tbody>\n",
       "</table>\n",
       "</div>\n",
       "      <button class=\"colab-df-convert\" onclick=\"convertToInteractive('df-33f697a6-0de6-470a-9ff6-21668a08bfb4')\"\n",
       "              title=\"Convert this dataframe to an interactive table.\"\n",
       "              style=\"display:none;\">\n",
       "        \n",
       "  <svg xmlns=\"http://www.w3.org/2000/svg\" height=\"24px\"viewBox=\"0 0 24 24\"\n",
       "       width=\"24px\">\n",
       "    <path d=\"M0 0h24v24H0V0z\" fill=\"none\"/>\n",
       "    <path d=\"M18.56 5.44l.94 2.06.94-2.06 2.06-.94-2.06-.94-.94-2.06-.94 2.06-2.06.94zm-11 1L8.5 8.5l.94-2.06 2.06-.94-2.06-.94L8.5 2.5l-.94 2.06-2.06.94zm10 10l.94 2.06.94-2.06 2.06-.94-2.06-.94-.94-2.06-.94 2.06-2.06.94z\"/><path d=\"M17.41 7.96l-1.37-1.37c-.4-.4-.92-.59-1.43-.59-.52 0-1.04.2-1.43.59L10.3 9.45l-7.72 7.72c-.78.78-.78 2.05 0 2.83L4 21.41c.39.39.9.59 1.41.59.51 0 1.02-.2 1.41-.59l7.78-7.78 2.81-2.81c.8-.78.8-2.07 0-2.86zM5.41 20L4 18.59l7.72-7.72 1.47 1.35L5.41 20z\"/>\n",
       "  </svg>\n",
       "      </button>\n",
       "      \n",
       "  <style>\n",
       "    .colab-df-container {\n",
       "      display:flex;\n",
       "      flex-wrap:wrap;\n",
       "      gap: 12px;\n",
       "    }\n",
       "\n",
       "    .colab-df-convert {\n",
       "      background-color: #E8F0FE;\n",
       "      border: none;\n",
       "      border-radius: 50%;\n",
       "      cursor: pointer;\n",
       "      display: none;\n",
       "      fill: #1967D2;\n",
       "      height: 32px;\n",
       "      padding: 0 0 0 0;\n",
       "      width: 32px;\n",
       "    }\n",
       "\n",
       "    .colab-df-convert:hover {\n",
       "      background-color: #E2EBFA;\n",
       "      box-shadow: 0px 1px 2px rgba(60, 64, 67, 0.3), 0px 1px 3px 1px rgba(60, 64, 67, 0.15);\n",
       "      fill: #174EA6;\n",
       "    }\n",
       "\n",
       "    [theme=dark] .colab-df-convert {\n",
       "      background-color: #3B4455;\n",
       "      fill: #D2E3FC;\n",
       "    }\n",
       "\n",
       "    [theme=dark] .colab-df-convert:hover {\n",
       "      background-color: #434B5C;\n",
       "      box-shadow: 0px 1px 3px 1px rgba(0, 0, 0, 0.15);\n",
       "      filter: drop-shadow(0px 1px 2px rgba(0, 0, 0, 0.3));\n",
       "      fill: #FFFFFF;\n",
       "    }\n",
       "  </style>\n",
       "\n",
       "      <script>\n",
       "        const buttonEl =\n",
       "          document.querySelector('#df-33f697a6-0de6-470a-9ff6-21668a08bfb4 button.colab-df-convert');\n",
       "        buttonEl.style.display =\n",
       "          google.colab.kernel.accessAllowed ? 'block' : 'none';\n",
       "\n",
       "        async function convertToInteractive(key) {\n",
       "          const element = document.querySelector('#df-33f697a6-0de6-470a-9ff6-21668a08bfb4');\n",
       "          const dataTable =\n",
       "            await google.colab.kernel.invokeFunction('convertToInteractive',\n",
       "                                                     [key], {});\n",
       "          if (!dataTable) return;\n",
       "\n",
       "          const docLinkHtml = 'Like what you see? Visit the ' +\n",
       "            '<a target=\"_blank\" href=https://colab.research.google.com/notebooks/data_table.ipynb>data table notebook</a>'\n",
       "            + ' to learn more about interactive tables.';\n",
       "          element.innerHTML = '';\n",
       "          dataTable['output_type'] = 'display_data';\n",
       "          await google.colab.output.renderOutput(dataTable, element);\n",
       "          const docLink = document.createElement('div');\n",
       "          docLink.innerHTML = docLinkHtml;\n",
       "          element.appendChild(docLink);\n",
       "        }\n",
       "      </script>\n",
       "    </div>\n",
       "  </div>\n",
       "  "
      ],
      "text/plain": [
       "                   ds   y\n",
       "0 2022-03-01 09:00:00  12\n",
       "1 2022-03-01 10:00:00   0\n",
       "2 2022-03-01 11:00:00   5\n",
       "3 2022-03-01 12:00:00   0\n",
       "4 2022-03-01 13:00:00   0"
      ]
     },
     "execution_count": 123,
     "metadata": {},
     "output_type": "execute_result"
    }
   ],
   "source": [
    "df_prophet.head(5)"
   ]
  },
  {
   "cell_type": "markdown",
   "metadata": {
    "id": "9VFDzsmxOdgt"
   },
   "source": [
    "Fitting the time series to the model."
   ]
  },
  {
   "cell_type": "code",
   "execution_count": null,
   "metadata": {
    "colab": {
     "base_uri": "https://localhost:8080/"
    },
    "id": "tcOeObEvxh8f",
    "outputId": "a3c03307-b36a-4caa-f25b-9f500fb16038"
   },
   "outputs": [
    {
     "name": "stderr",
     "output_type": "stream",
     "text": [
      "INFO:fbprophet:Disabling yearly seasonality. Run prophet with yearly_seasonality=True to override this.\n"
     ]
    },
    {
     "data": {
      "text/plain": [
       "<fbprophet.forecaster.Prophet at 0x7f54f2c29450>"
      ]
     },
     "execution_count": 124,
     "metadata": {},
     "output_type": "execute_result"
    }
   ],
   "source": [
    "m = Prophet(weekly_seasonality=True)\n",
    "m.fit(df_prophet)"
   ]
  },
  {
   "cell_type": "markdown",
   "metadata": {
    "id": "VQkQho84NdK4"
   },
   "source": [
    "Make a datetime series for which we need to forecast."
   ]
  },
  {
   "cell_type": "code",
   "execution_count": null,
   "metadata": {
    "id": "DyhHsOBOxh8f"
   },
   "outputs": [],
   "source": [
    "future = m.make_future_dataframe(periods=0, freq='h')"
   ]
  },
  {
   "cell_type": "code",
   "execution_count": null,
   "metadata": {
    "colab": {
     "base_uri": "https://localhost:8080/",
     "height": 206
    },
    "id": "gJ8NGCkC7yeq",
    "outputId": "2b07f6d6-e655-4543-b0a9-240148f40765"
   },
   "outputs": [
    {
     "data": {
      "text/html": [
       "\n",
       "  <div id=\"df-093c3bde-5103-493e-8cdd-ab0ffcdaee7c\">\n",
       "    <div class=\"colab-df-container\">\n",
       "      <div>\n",
       "<style scoped>\n",
       "    .dataframe tbody tr th:only-of-type {\n",
       "        vertical-align: middle;\n",
       "    }\n",
       "\n",
       "    .dataframe tbody tr th {\n",
       "        vertical-align: top;\n",
       "    }\n",
       "\n",
       "    .dataframe thead th {\n",
       "        text-align: right;\n",
       "    }\n",
       "</style>\n",
       "<table border=\"1\" class=\"dataframe\">\n",
       "  <thead>\n",
       "    <tr style=\"text-align: right;\">\n",
       "      <th></th>\n",
       "      <th>ds</th>\n",
       "    </tr>\n",
       "  </thead>\n",
       "  <tbody>\n",
       "    <tr>\n",
       "      <th>0</th>\n",
       "      <td>2022-03-01 09:00:00</td>\n",
       "    </tr>\n",
       "    <tr>\n",
       "      <th>1</th>\n",
       "      <td>2022-03-01 10:00:00</td>\n",
       "    </tr>\n",
       "    <tr>\n",
       "      <th>2</th>\n",
       "      <td>2022-03-01 11:00:00</td>\n",
       "    </tr>\n",
       "    <tr>\n",
       "      <th>3</th>\n",
       "      <td>2022-03-01 12:00:00</td>\n",
       "    </tr>\n",
       "    <tr>\n",
       "      <th>4</th>\n",
       "      <td>2022-03-01 13:00:00</td>\n",
       "    </tr>\n",
       "  </tbody>\n",
       "</table>\n",
       "</div>\n",
       "      <button class=\"colab-df-convert\" onclick=\"convertToInteractive('df-093c3bde-5103-493e-8cdd-ab0ffcdaee7c')\"\n",
       "              title=\"Convert this dataframe to an interactive table.\"\n",
       "              style=\"display:none;\">\n",
       "        \n",
       "  <svg xmlns=\"http://www.w3.org/2000/svg\" height=\"24px\"viewBox=\"0 0 24 24\"\n",
       "       width=\"24px\">\n",
       "    <path d=\"M0 0h24v24H0V0z\" fill=\"none\"/>\n",
       "    <path d=\"M18.56 5.44l.94 2.06.94-2.06 2.06-.94-2.06-.94-.94-2.06-.94 2.06-2.06.94zm-11 1L8.5 8.5l.94-2.06 2.06-.94-2.06-.94L8.5 2.5l-.94 2.06-2.06.94zm10 10l.94 2.06.94-2.06 2.06-.94-2.06-.94-.94-2.06-.94 2.06-2.06.94z\"/><path d=\"M17.41 7.96l-1.37-1.37c-.4-.4-.92-.59-1.43-.59-.52 0-1.04.2-1.43.59L10.3 9.45l-7.72 7.72c-.78.78-.78 2.05 0 2.83L4 21.41c.39.39.9.59 1.41.59.51 0 1.02-.2 1.41-.59l7.78-7.78 2.81-2.81c.8-.78.8-2.07 0-2.86zM5.41 20L4 18.59l7.72-7.72 1.47 1.35L5.41 20z\"/>\n",
       "  </svg>\n",
       "      </button>\n",
       "      \n",
       "  <style>\n",
       "    .colab-df-container {\n",
       "      display:flex;\n",
       "      flex-wrap:wrap;\n",
       "      gap: 12px;\n",
       "    }\n",
       "\n",
       "    .colab-df-convert {\n",
       "      background-color: #E8F0FE;\n",
       "      border: none;\n",
       "      border-radius: 50%;\n",
       "      cursor: pointer;\n",
       "      display: none;\n",
       "      fill: #1967D2;\n",
       "      height: 32px;\n",
       "      padding: 0 0 0 0;\n",
       "      width: 32px;\n",
       "    }\n",
       "\n",
       "    .colab-df-convert:hover {\n",
       "      background-color: #E2EBFA;\n",
       "      box-shadow: 0px 1px 2px rgba(60, 64, 67, 0.3), 0px 1px 3px 1px rgba(60, 64, 67, 0.15);\n",
       "      fill: #174EA6;\n",
       "    }\n",
       "\n",
       "    [theme=dark] .colab-df-convert {\n",
       "      background-color: #3B4455;\n",
       "      fill: #D2E3FC;\n",
       "    }\n",
       "\n",
       "    [theme=dark] .colab-df-convert:hover {\n",
       "      background-color: #434B5C;\n",
       "      box-shadow: 0px 1px 3px 1px rgba(0, 0, 0, 0.15);\n",
       "      filter: drop-shadow(0px 1px 2px rgba(0, 0, 0, 0.3));\n",
       "      fill: #FFFFFF;\n",
       "    }\n",
       "  </style>\n",
       "\n",
       "      <script>\n",
       "        const buttonEl =\n",
       "          document.querySelector('#df-093c3bde-5103-493e-8cdd-ab0ffcdaee7c button.colab-df-convert');\n",
       "        buttonEl.style.display =\n",
       "          google.colab.kernel.accessAllowed ? 'block' : 'none';\n",
       "\n",
       "        async function convertToInteractive(key) {\n",
       "          const element = document.querySelector('#df-093c3bde-5103-493e-8cdd-ab0ffcdaee7c');\n",
       "          const dataTable =\n",
       "            await google.colab.kernel.invokeFunction('convertToInteractive',\n",
       "                                                     [key], {});\n",
       "          if (!dataTable) return;\n",
       "\n",
       "          const docLinkHtml = 'Like what you see? Visit the ' +\n",
       "            '<a target=\"_blank\" href=https://colab.research.google.com/notebooks/data_table.ipynb>data table notebook</a>'\n",
       "            + ' to learn more about interactive tables.';\n",
       "          element.innerHTML = '';\n",
       "          dataTable['output_type'] = 'display_data';\n",
       "          await google.colab.output.renderOutput(dataTable, element);\n",
       "          const docLink = document.createElement('div');\n",
       "          docLink.innerHTML = docLinkHtml;\n",
       "          element.appendChild(docLink);\n",
       "        }\n",
       "      </script>\n",
       "    </div>\n",
       "  </div>\n",
       "  "
      ],
      "text/plain": [
       "                   ds\n",
       "0 2022-03-01 09:00:00\n",
       "1 2022-03-01 10:00:00\n",
       "2 2022-03-01 11:00:00\n",
       "3 2022-03-01 12:00:00\n",
       "4 2022-03-01 13:00:00"
      ]
     },
     "execution_count": 126,
     "metadata": {},
     "output_type": "execute_result"
    }
   ],
   "source": [
    "future.head(5)"
   ]
  },
  {
   "cell_type": "markdown",
   "metadata": {
    "id": "iFj-8US-NLQO"
   },
   "source": [
    "Forecasting the crowd count for the given series."
   ]
  },
  {
   "cell_type": "code",
   "execution_count": null,
   "metadata": {
    "id": "Kfm9NX9Y7zVB"
   },
   "outputs": [],
   "source": [
    "forecast=m.predict(future)"
   ]
  },
  {
   "cell_type": "markdown",
   "metadata": {
    "id": "IY5rpak9Mwfp"
   },
   "source": [
    "### Visualization of the prediction by model for the time series."
   ]
  },
  {
   "cell_type": "code",
   "execution_count": null,
   "metadata": {
    "colab": {
     "base_uri": "https://localhost:8080/",
     "height": 441
    },
    "id": "qkd2xVTq8clB",
    "outputId": "8f4a52bc-73d4-4269-b97e-d9e119fb8754"
   },
   "outputs": [
    {
     "data": {
      "image/png": "[encoded data removed]",
      "text/plain": [
       "<Figure size 720x432 with 1 Axes>"
      ]
     },
     "metadata": {},
     "output_type": "display_data"
    }
   ],
   "source": [
    "fig1 = m.plot(forecast)"
   ]
  },
  {
   "cell_type": "markdown",
   "metadata": {
    "id": "Hjx6yI3YwmSM"
   },
   "source": [
    "Mean Absolute error value for Prophet model ="
   ]
  },
  {
   "cell_type": "code",
   "execution_count": null,
   "metadata": {
    "colab": {
     "base_uri": "https://localhost:8080/"
    },
    "id": "hwV9MgyUwSIe",
    "outputId": "fd24a64b-088f-49ed-8f51-623190f52f92"
   },
   "outputs": [
    {
     "data": {
      "text/plain": [
       "4.35577017905525"
      ]
     },
     "execution_count": 129,
     "metadata": {},
     "output_type": "execute_result"
    }
   ],
   "source": [
    "mean_absolute_error(df_ts,forecast['yhat'])"
   ]
  },
  {
   "cell_type": "markdown",
   "metadata": {
    "id": "06oongXFMbbr"
   },
   "source": [
    "### Visualisation various components of the time series."
   ]
  },
  {
   "cell_type": "code",
   "execution_count": null,
   "metadata": {
    "colab": {
     "base_uri": "https://localhost:8080/",
     "height": 657
    },
    "id": "-Mf2PlCD8kBi",
    "outputId": "608a47f5-6d11-484e-d5ac-ad8fc6baff4b"
   },
   "outputs": [
    {
     "data": {
      "image/png": "[encoded data removed]",
      "text/plain": [
       "<Figure size 648x648 with 3 Axes>"
      ]
     },
     "metadata": {},
     "output_type": "display_data"
    }
   ],
   "source": [
    "fig2 = m.plot_components(forecast)"
   ]
  },
  {
   "cell_type": "markdown",
   "metadata": {
    "id": "zc53wBPphCkc"
   },
   "source": [
    "### **Conclusion**\n",
    "\n",
    "We conclude that the both models are giving reasonable results with randomly generated data and thus needs further analysis and tuning with better data i.e real world data."
   ]
  }
 ],
 "metadata": {
  "colab": {
   "collapsed_sections": [
    "hCKWdK-EVA5i"
   ],
   "name": "Crowd_Count_Forecasting.ipynb",
   "provenance": []
  },
  "interpreter": {
   "hash": "b3ba2566441a7c06988d0923437866b63cedc61552a5af99d1f4fb67d367b25f"
  },
  "kernelspec": {
   "display_name": "Python 3 (ipykernel)",
   "language": "python",
   "name": "python3"
  },
  "language_info": {
   "codemirror_mode": {
    "name": "ipython",
    "version": 3
   },
   "file_extension": ".py",
   "mimetype": "text/x-python",
   "name": "python",
   "nbconvert_exporter": "python",
   "pygments_lexer": "ipython3",
   "version": "3.9.12"
  }
 },
 "nbformat": 4,
 "nbformat_minor": 1
}
